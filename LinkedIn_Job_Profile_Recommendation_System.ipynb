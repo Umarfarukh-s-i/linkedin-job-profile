{
 "cells": [
  {
   "cell_type": "markdown",
   "id": "cfbf3d56-1e06-44a8-a1da-3875638c1e7e",
   "metadata": {},
   "source": [
    "# **LinkedIn Job Profile Recommendation System**"
   ]
  },
  {
   "cell_type": "markdown",
   "id": "1824925c-ec6d-4f97-9e9a-5255a94b8bbf",
   "metadata": {},
   "source": [
    "## **Data Scraping**"
   ]
  },
  {
   "cell_type": "code",
   "execution_count": 1,
   "id": "00f77336-6e26-44e9-afad-19272a697d6d",
   "metadata": {},
   "outputs": [],
   "source": [
    "import requests\n",
    "from bs4 import BeautifulSoup\n",
    "import random \n",
    "import pandas as pd"
   ]
  },
  {
   "cell_type": "code",
   "execution_count": 3,
   "id": "0f61faea-6714-4439-96e0-e950c41ade9e",
   "metadata": {},
   "outputs": [],
   "source": [
    "list_url = \"https://www.linkedin.com/jobs-guest/jobs/api/seeMoreJobPostings/search?keywords=&location=India&start=900\" \n",
    "\n",
    "response = requests.get(list_url)\n",
    "\n",
    "list_data = response.text\n",
    "list_soup = BeautifulSoup(list_data, \"html.parser\")\n",
    "page_jobs = list_soup.find_all(\"li\")"
   ]
  },
  {
   "cell_type": "code",
   "execution_count": 5,
   "id": "b41338dd-c505-489f-a216-1d39194ac288",
   "metadata": {},
   "outputs": [],
   "source": [
    "id_list = []"
   ]
  },
  {
   "cell_type": "code",
   "execution_count": 7,
   "id": "acbab9f6-f60c-4fbe-b4aa-1afd6aeda9eb",
   "metadata": {},
   "outputs": [
    {
     "name": "stdout",
     "output_type": "stream",
     "text": [
      "4212173145\n",
      "4211514821\n",
      "4211152812\n",
      "4212313122\n",
      "4212913096\n",
      "4212313634\n",
      "4212986883\n",
      "4212959532\n",
      "4211513189\n",
      "4211481002\n"
     ]
    }
   ],
   "source": [
    "for job in page_jobs:\n",
    "    base_card_div = job.find(\"div\",{\"class\":\"base-card\"})\n",
    "    job_id = base_card_div.get(\"data-entity-urn\").split(\":\")[3]\n",
    "    print(job_id)\n",
    "    id_list.append(job_id)"
   ]
  },
  {
   "cell_type": "code",
   "execution_count": 9,
   "id": "354c07f8-336d-4fd7-acbd-c022f86ab97c",
   "metadata": {},
   "outputs": [
    {
     "data": {
      "text/plain": [
       "['4212173145',\n",
       " '4211514821',\n",
       " '4211152812',\n",
       " '4212313122',\n",
       " '4212913096',\n",
       " '4212313634',\n",
       " '4212986883',\n",
       " '4212959532',\n",
       " '4211513189',\n",
       " '4211481002']"
      ]
     },
     "execution_count": 9,
     "metadata": {},
     "output_type": "execute_result"
    }
   ],
   "source": [
    "id_list"
   ]
  },
  {
   "cell_type": "code",
   "execution_count": 11,
   "id": "989c7862-549a-48a9-ae63-cbde8d38049a",
   "metadata": {},
   "outputs": [
    {
     "name": "stdout",
     "output_type": "stream",
     "text": [
      "200\n",
      "200\n",
      "200\n",
      "200\n",
      "200\n",
      "200\n",
      "200\n",
      "200\n",
      "200\n",
      "200\n"
     ]
    }
   ],
   "source": [
    "job_list = []\n",
    "\n",
    "for job_id in id_list:\n",
    "    job_url = f\"https://www.linkedin.com/jobs-guest/jobs/api/jobPosting/{job_id}\"\n",
    "    job_response = requests.get(job_url)\n",
    "    print(job_response.status_code)\n",
    "    job_soup = BeautifulSoup(job_response.text,\"html.parser\")\n",
    "    job_post = {}\n",
    "    try:\n",
    "        job_post[\"Job_Name\"] = job_soup.find(\"h2\",{\"class\" : \"top-card-layout__title font-sans text-lg papabear:text-xl font-bold leading-open text-color-text mb-0 topcard__title\"}).text.strip()\n",
    "    except:\n",
    "        job_post[\"Job_Name\"] = None\n",
    "    try:\n",
    "        job_post[\"Company_Name\"] = job_soup.find(\"a\",{\"class\" : \"topcard__org-name-link topcard__flavor--black-link\"}).text.strip()\n",
    "    except:\n",
    "        job_post[\"Company_Name\"] = None\n",
    "    try:\n",
    "        job_post[\"Time_Posted\"] = job_soup.find(\"span\",{\"class\" : \"posted-time-ago__text topcard__flavor--metadata\"}).text.strip()\n",
    "    except:\n",
    "        job_post[\"Time_Posted\"] = None\n",
    "    try:\n",
    "        job_post[\"Applicants\"] = job_soup.find(\"span\",{\"class\" : \"num-applicants__caption\"}).text.strip()\n",
    "    except:\n",
    "        job_post[\"Applicants\"] = None\n",
    "    try:\n",
    "        job_post[\"Location\"] = job_soup.find(\"span\",{\"class\" : \"topcard__flavor topcard__flavor--bullet\"}).text.strip()\n",
    "    except:\n",
    "        job_post[\"Location\"] = None\n",
    "    try:\n",
    "        criteria_items = job_soup.find_all(\"li\", {\"class\": \"description__job-criteria-item\"})\n",
    "        \n",
    "        for item in criteria_items:\n",
    "            subheader = item.find(\"h3\", {\"class\": \"description__job-criteria-subheader\"})\n",
    "            if subheader and \"Employment type\" in subheader.text:\n",
    "                job_post[\"Job_Type\"] = item.find(\"span\", {\"class\": \"description__job-criteria-text\"}).text.strip()\n",
    "                break  \n",
    "            else:\n",
    "                job_post[\"Job_Type\"] = None \n",
    "    except:\n",
    "        job_post[\"Job_Type\"] = None\n",
    "    \n",
    "    \n",
    "    \n",
    "    job_list.append(job_post)"
   ]
  },
  {
   "cell_type": "code",
   "execution_count": 12,
   "id": "627d9755-3fd6-4afa-a835-130b55678659",
   "metadata": {},
   "outputs": [
    {
     "data": {
      "text/plain": [
       "[{'Job_Name': 'Director of Product Management',\n",
       "  'Company_Name': 'ekincare',\n",
       "  'Time_Posted': '1 day ago',\n",
       "  'Applicants': None,\n",
       "  'Location': 'Hyderabad, Telangana, India',\n",
       "  'Job_Type': 'Full-time'},\n",
       " {'Job_Name': 'Data Analyst',\n",
       "  'Company_Name': 'Optimum Data Analytics',\n",
       "  'Time_Posted': None,\n",
       "  'Applicants': '92 applicants',\n",
       "  'Location': 'Bengaluru, Karnataka, India',\n",
       "  'Job_Type': 'Full-time'},\n",
       " {'Job_Name': 'Product Designer',\n",
       "  'Company_Name': 'BlueOptima',\n",
       "  'Time_Posted': '1 day ago',\n",
       "  'Applicants': '71 applicants',\n",
       "  'Location': 'Bengaluru East, Karnataka, India',\n",
       "  'Job_Type': 'Full-time'},\n",
       " {'Job_Name': 'Technology Operations Lead',\n",
       "  'Company_Name': 'Deutsche Bank',\n",
       "  'Time_Posted': '1 day ago',\n",
       "  'Applicants': '36 applicants',\n",
       "  'Location': 'Pune, Maharashtra, India',\n",
       "  'Job_Type': 'Full-time'},\n",
       " {'Job_Name': 'Associate',\n",
       "  'Company_Name': 'PwC',\n",
       "  'Time_Posted': None,\n",
       "  'Applicants': None,\n",
       "  'Location': 'Mumbai, Maharashtra, India',\n",
       "  'Job_Type': 'Full-time'},\n",
       " {'Job_Name': 'Team Lead - Intern, INSC North',\n",
       "  'Company_Name': 'Amazon',\n",
       "  'Time_Posted': '1 day ago',\n",
       "  'Applicants': None,\n",
       "  'Location': 'Gurgaon, Haryana, India',\n",
       "  'Job_Type': 'Full-time'},\n",
       " {'Job_Name': 'Project Associate',\n",
       "  'Company_Name': 'Indegene',\n",
       "  'Time_Posted': None,\n",
       "  'Applicants': None,\n",
       "  'Location': 'Bengaluru, Karnataka, India',\n",
       "  'Job_Type': 'Full-time'},\n",
       " {'Job_Name': 'Executive N - Retail Sales',\n",
       "  'Company_Name': 'Asian Paints',\n",
       "  'Time_Posted': None,\n",
       "  'Applicants': None,\n",
       "  'Location': 'Karimnagar, Telangana, India',\n",
       "  'Job_Type': 'Full-time'},\n",
       " {'Job_Name': 'Freelance UGC Creator',\n",
       "  'Company_Name': 'White Panda',\n",
       "  'Time_Posted': None,\n",
       "  'Applicants': None,\n",
       "  'Location': 'Hyderabad, Telangana, India',\n",
       "  'Job_Type': 'Part-time'},\n",
       " {'Job_Name': 'Client Service Support Specialist',\n",
       "  'Company_Name': 'JPMorganChase',\n",
       "  'Time_Posted': '2 days ago',\n",
       "  'Applicants': '139 applicants',\n",
       "  'Location': 'Mumbai, Maharashtra, India',\n",
       "  'Job_Type': 'Full-time'}]"
      ]
     },
     "execution_count": 12,
     "metadata": {},
     "output_type": "execute_result"
    }
   ],
   "source": [
    "job_list"
   ]
  },
  {
   "cell_type": "code",
   "execution_count": 15,
   "id": "ad626c69-5520-4a9a-8142-4681be18bc9b",
   "metadata": {
    "scrolled": true
   },
   "outputs": [
    {
     "data": {
      "text/html": [
       "<div>\n",
       "<style scoped>\n",
       "    .dataframe tbody tr th:only-of-type {\n",
       "        vertical-align: middle;\n",
       "    }\n",
       "\n",
       "    .dataframe tbody tr th {\n",
       "        vertical-align: top;\n",
       "    }\n",
       "\n",
       "    .dataframe thead th {\n",
       "        text-align: right;\n",
       "    }\n",
       "</style>\n",
       "<table border=\"1\" class=\"dataframe\">\n",
       "  <thead>\n",
       "    <tr style=\"text-align: right;\">\n",
       "      <th></th>\n",
       "      <th>Job_Name</th>\n",
       "      <th>Company_Name</th>\n",
       "      <th>Time_Posted</th>\n",
       "      <th>Applicants</th>\n",
       "      <th>Location</th>\n",
       "      <th>Job_Type</th>\n",
       "    </tr>\n",
       "  </thead>\n",
       "  <tbody>\n",
       "    <tr>\n",
       "      <th>0</th>\n",
       "      <td>Director of Product Management</td>\n",
       "      <td>ekincare</td>\n",
       "      <td>1 day ago</td>\n",
       "      <td>None</td>\n",
       "      <td>Hyderabad, Telangana, India</td>\n",
       "      <td>Full-time</td>\n",
       "    </tr>\n",
       "    <tr>\n",
       "      <th>1</th>\n",
       "      <td>Data Analyst</td>\n",
       "      <td>Optimum Data Analytics</td>\n",
       "      <td>None</td>\n",
       "      <td>92 applicants</td>\n",
       "      <td>Bengaluru, Karnataka, India</td>\n",
       "      <td>Full-time</td>\n",
       "    </tr>\n",
       "    <tr>\n",
       "      <th>2</th>\n",
       "      <td>Product Designer</td>\n",
       "      <td>BlueOptima</td>\n",
       "      <td>1 day ago</td>\n",
       "      <td>71 applicants</td>\n",
       "      <td>Bengaluru East, Karnataka, India</td>\n",
       "      <td>Full-time</td>\n",
       "    </tr>\n",
       "    <tr>\n",
       "      <th>3</th>\n",
       "      <td>Technology Operations Lead</td>\n",
       "      <td>Deutsche Bank</td>\n",
       "      <td>1 day ago</td>\n",
       "      <td>36 applicants</td>\n",
       "      <td>Pune, Maharashtra, India</td>\n",
       "      <td>Full-time</td>\n",
       "    </tr>\n",
       "    <tr>\n",
       "      <th>4</th>\n",
       "      <td>Associate</td>\n",
       "      <td>PwC</td>\n",
       "      <td>None</td>\n",
       "      <td>None</td>\n",
       "      <td>Mumbai, Maharashtra, India</td>\n",
       "      <td>Full-time</td>\n",
       "    </tr>\n",
       "    <tr>\n",
       "      <th>5</th>\n",
       "      <td>Team Lead - Intern, INSC North</td>\n",
       "      <td>Amazon</td>\n",
       "      <td>1 day ago</td>\n",
       "      <td>None</td>\n",
       "      <td>Gurgaon, Haryana, India</td>\n",
       "      <td>Full-time</td>\n",
       "    </tr>\n",
       "    <tr>\n",
       "      <th>6</th>\n",
       "      <td>Project Associate</td>\n",
       "      <td>Indegene</td>\n",
       "      <td>None</td>\n",
       "      <td>None</td>\n",
       "      <td>Bengaluru, Karnataka, India</td>\n",
       "      <td>Full-time</td>\n",
       "    </tr>\n",
       "    <tr>\n",
       "      <th>7</th>\n",
       "      <td>Executive N - Retail Sales</td>\n",
       "      <td>Asian Paints</td>\n",
       "      <td>None</td>\n",
       "      <td>None</td>\n",
       "      <td>Karimnagar, Telangana, India</td>\n",
       "      <td>Full-time</td>\n",
       "    </tr>\n",
       "    <tr>\n",
       "      <th>8</th>\n",
       "      <td>Freelance UGC Creator</td>\n",
       "      <td>White Panda</td>\n",
       "      <td>None</td>\n",
       "      <td>None</td>\n",
       "      <td>Hyderabad, Telangana, India</td>\n",
       "      <td>Part-time</td>\n",
       "    </tr>\n",
       "    <tr>\n",
       "      <th>9</th>\n",
       "      <td>Client Service Support Specialist</td>\n",
       "      <td>JPMorganChase</td>\n",
       "      <td>2 days ago</td>\n",
       "      <td>139 applicants</td>\n",
       "      <td>Mumbai, Maharashtra, India</td>\n",
       "      <td>Full-time</td>\n",
       "    </tr>\n",
       "  </tbody>\n",
       "</table>\n",
       "</div>"
      ],
      "text/plain": [
       "                            Job_Name            Company_Name Time_Posted  \\\n",
       "0     Director of Product Management                ekincare   1 day ago   \n",
       "1                       Data Analyst  Optimum Data Analytics        None   \n",
       "2                   Product Designer              BlueOptima   1 day ago   \n",
       "3         Technology Operations Lead           Deutsche Bank   1 day ago   \n",
       "4                          Associate                     PwC        None   \n",
       "5     Team Lead - Intern, INSC North                  Amazon   1 day ago   \n",
       "6                  Project Associate                Indegene        None   \n",
       "7         Executive N - Retail Sales            Asian Paints        None   \n",
       "8              Freelance UGC Creator             White Panda        None   \n",
       "9  Client Service Support Specialist           JPMorganChase  2 days ago   \n",
       "\n",
       "       Applicants                          Location   Job_Type  \n",
       "0            None       Hyderabad, Telangana, India  Full-time  \n",
       "1   92 applicants       Bengaluru, Karnataka, India  Full-time  \n",
       "2   71 applicants  Bengaluru East, Karnataka, India  Full-time  \n",
       "3   36 applicants          Pune, Maharashtra, India  Full-time  \n",
       "4            None        Mumbai, Maharashtra, India  Full-time  \n",
       "5            None           Gurgaon, Haryana, India  Full-time  \n",
       "6            None       Bengaluru, Karnataka, India  Full-time  \n",
       "7            None      Karimnagar, Telangana, India  Full-time  \n",
       "8            None       Hyderabad, Telangana, India  Part-time  \n",
       "9  139 applicants        Mumbai, Maharashtra, India  Full-time  "
      ]
     },
     "execution_count": 15,
     "metadata": {},
     "output_type": "execute_result"
    }
   ],
   "source": [
    "jobs_df = pd.DataFrame(job_list)\n",
    "jobs_df"
   ]
  },
  {
   "cell_type": "code",
   "execution_count": 9,
   "id": "e0a7c44d-7640-4e6f-822c-24c41f6c6313",
   "metadata": {},
   "outputs": [],
   "source": [
    "jobs_df.to_csv('E:\\Data Science\\Project\\LinkedIn\\LinkedIn_Scrap_Data.csv', index = False)"
   ]
  },
  {
   "cell_type": "markdown",
   "id": "1dadc56a-6f3f-4df7-8885-4bd9b3e3ccce",
   "metadata": {},
   "source": [
    "### **Import Library**"
   ]
  },
  {
   "cell_type": "code",
   "execution_count": 17,
   "id": "9d66b404-ec60-41a6-b002-daf2f1681e18",
   "metadata": {},
   "outputs": [],
   "source": [
    "# Importing Required Libraries\n",
    "\n",
    "import pandas as pd\n",
    "import numpy as np\n",
    "import matplotlib.pyplot as plt\n",
    "import seaborn as sns\n",
    "import warnings\n",
    "\n",
    "# Ignore warnings\n",
    "warnings.filterwarnings(\"ignore\")"
   ]
  },
  {
   "cell_type": "markdown",
   "id": "cfc92dff-c9f1-44b4-86fa-2efd9ee61546",
   "metadata": {},
   "source": [
    "### **Import Data**"
   ]
  },
  {
   "cell_type": "code",
   "execution_count": 20,
   "id": "cc219036-8485-42c1-b588-7a7c853e8bfa",
   "metadata": {},
   "outputs": [
    {
     "data": {
      "text/html": [
       "<div>\n",
       "<style scoped>\n",
       "    .dataframe tbody tr th:only-of-type {\n",
       "        vertical-align: middle;\n",
       "    }\n",
       "\n",
       "    .dataframe tbody tr th {\n",
       "        vertical-align: top;\n",
       "    }\n",
       "\n",
       "    .dataframe thead th {\n",
       "        text-align: right;\n",
       "    }\n",
       "</style>\n",
       "<table border=\"1\" class=\"dataframe\">\n",
       "  <thead>\n",
       "    <tr style=\"text-align: right;\">\n",
       "      <th></th>\n",
       "      <th>Job_Name</th>\n",
       "      <th>Company_Name</th>\n",
       "      <th>Time_Posted</th>\n",
       "      <th>Applicants</th>\n",
       "      <th>Location</th>\n",
       "      <th>Job_Type</th>\n",
       "    </tr>\n",
       "  </thead>\n",
       "  <tbody>\n",
       "    <tr>\n",
       "      <th>0</th>\n",
       "      <td>Opening for Java Full Stack Developer</td>\n",
       "      <td>LTIMindtree</td>\n",
       "      <td>2 hours ago</td>\n",
       "      <td>55 applicants</td>\n",
       "      <td>Pune, Maharashtra, India</td>\n",
       "      <td>Full-time</td>\n",
       "    </tr>\n",
       "    <tr>\n",
       "      <th>1</th>\n",
       "      <td>Senior Engineer Ã¢ÂÂ Backend (Java)</td>\n",
       "      <td>PayPal</td>\n",
       "      <td>2 hours ago</td>\n",
       "      <td>114 applicants</td>\n",
       "      <td>Bengaluru, Karnataka, India</td>\n",
       "      <td>Full-time</td>\n",
       "    </tr>\n",
       "    <tr>\n",
       "      <th>2</th>\n",
       "      <td>Sr. Software Engineer</td>\n",
       "      <td>Tech Mahindra</td>\n",
       "      <td>15 hours ago</td>\n",
       "      <td>183 applicants</td>\n",
       "      <td>Bengaluru, Karnataka, India</td>\n",
       "      <td>Contract</td>\n",
       "    </tr>\n",
       "    <tr>\n",
       "      <th>3</th>\n",
       "      <td>Full Stack Developer JAVA</td>\n",
       "      <td>Oracle</td>\n",
       "      <td>18 hours ago</td>\n",
       "      <td>55 applicants</td>\n",
       "      <td>Bengaluru, Karnataka, India</td>\n",
       "      <td>Full-time</td>\n",
       "    </tr>\n",
       "    <tr>\n",
       "      <th>4</th>\n",
       "      <td>Senior Java Software Engineer</td>\n",
       "      <td>idigilogic</td>\n",
       "      <td>18 hours ago</td>\n",
       "      <td>26 applicants</td>\n",
       "      <td>Bengaluru East, Karnataka, India</td>\n",
       "      <td>Full-time</td>\n",
       "    </tr>\n",
       "    <tr>\n",
       "      <th>...</th>\n",
       "      <td>...</td>\n",
       "      <td>...</td>\n",
       "      <td>...</td>\n",
       "      <td>...</td>\n",
       "      <td>...</td>\n",
       "      <td>...</td>\n",
       "    </tr>\n",
       "    <tr>\n",
       "      <th>3000</th>\n",
       "      <td>Scientist in Residence, Amazon</td>\n",
       "      <td>Amazon</td>\n",
       "      <td>1 week ago</td>\n",
       "      <td>NaN</td>\n",
       "      <td>Delhi, Delhi, India</td>\n",
       "      <td>Full-time</td>\n",
       "    </tr>\n",
       "    <tr>\n",
       "      <th>3001</th>\n",
       "      <td>AI/ML Engineers in India | 40 hours a week</td>\n",
       "      <td>Braintrust</td>\n",
       "      <td>2 weeks ago</td>\n",
       "      <td>NaN</td>\n",
       "      <td>Maharashtra, India</td>\n",
       "      <td>Full-time</td>\n",
       "    </tr>\n",
       "    <tr>\n",
       "      <th>3002</th>\n",
       "      <td>Senior Data Analyst</td>\n",
       "      <td>Zupee</td>\n",
       "      <td>2 weeks ago</td>\n",
       "      <td>NaN</td>\n",
       "      <td>Gurugram, Haryana, India</td>\n",
       "      <td>Part-time</td>\n",
       "    </tr>\n",
       "    <tr>\n",
       "      <th>3003</th>\n",
       "      <td>AI ML Engineer - Deep Learning (LLM, LSTM, Neu...</td>\n",
       "      <td>SOLIZE India Technologies Private Limited</td>\n",
       "      <td>1 week ago</td>\n",
       "      <td>60 applicants</td>\n",
       "      <td>Bengaluru, Karnataka, India</td>\n",
       "      <td>Full-time</td>\n",
       "    </tr>\n",
       "    <tr>\n",
       "      <th>3004</th>\n",
       "      <td>AI Engineer</td>\n",
       "      <td>MKU</td>\n",
       "      <td>1 week ago</td>\n",
       "      <td>155 applicants</td>\n",
       "      <td>Gurugram, Haryana, India</td>\n",
       "      <td>Full-time</td>\n",
       "    </tr>\n",
       "  </tbody>\n",
       "</table>\n",
       "<p>3005 rows × 6 columns</p>\n",
       "</div>"
      ],
      "text/plain": [
       "                                               Job_Name  \\\n",
       "0                 Opening for Java Full Stack Developer   \n",
       "1                 Senior Engineer Ã¢ÂÂ Backend (Java)   \n",
       "2                                 Sr. Software Engineer   \n",
       "3                             Full Stack Developer JAVA   \n",
       "4                         Senior Java Software Engineer   \n",
       "...                                                 ...   \n",
       "3000                     Scientist in Residence, Amazon   \n",
       "3001         AI/ML Engineers in India | 40 hours a week   \n",
       "3002                                Senior Data Analyst   \n",
       "3003  AI ML Engineer - Deep Learning (LLM, LSTM, Neu...   \n",
       "3004                                        AI Engineer   \n",
       "\n",
       "                                   Company_Name   Time_Posted      Applicants  \\\n",
       "0                                   LTIMindtree   2 hours ago   55 applicants   \n",
       "1                                        PayPal   2 hours ago  114 applicants   \n",
       "2                                 Tech Mahindra  15 hours ago  183 applicants   \n",
       "3                                        Oracle  18 hours ago   55 applicants   \n",
       "4                                    idigilogic  18 hours ago   26 applicants   \n",
       "...                                         ...           ...             ...   \n",
       "3000                                     Amazon    1 week ago             NaN   \n",
       "3001                                 Braintrust   2 weeks ago             NaN   \n",
       "3002                                      Zupee   2 weeks ago             NaN   \n",
       "3003  SOLIZE India Technologies Private Limited    1 week ago   60 applicants   \n",
       "3004                                        MKU    1 week ago  155 applicants   \n",
       "\n",
       "                              Location   Job_Type  \n",
       "0             Pune, Maharashtra, India  Full-time  \n",
       "1          Bengaluru, Karnataka, India  Full-time  \n",
       "2          Bengaluru, Karnataka, India   Contract  \n",
       "3          Bengaluru, Karnataka, India  Full-time  \n",
       "4     Bengaluru East, Karnataka, India  Full-time  \n",
       "...                                ...        ...  \n",
       "3000               Delhi, Delhi, India  Full-time  \n",
       "3001                Maharashtra, India  Full-time  \n",
       "3002          Gurugram, Haryana, India  Part-time  \n",
       "3003       Bengaluru, Karnataka, India  Full-time  \n",
       "3004          Gurugram, Haryana, India  Full-time  \n",
       "\n",
       "[3005 rows x 6 columns]"
      ]
     },
     "execution_count": 20,
     "metadata": {},
     "output_type": "execute_result"
    }
   ],
   "source": [
    "df = pd.read_csv(r'LinkedIn_Job_Data.csv', encoding='latin1')\n",
    "df"
   ]
  },
  {
   "cell_type": "markdown",
   "id": "567a9e93-86f1-4f32-a7b9-aa3e2afdf89a",
   "metadata": {},
   "source": [
    "### **Data Preparation**"
   ]
  },
  {
   "cell_type": "code",
   "execution_count": 23,
   "id": "18c64a83-d089-4929-a785-426a8bb1cf4c",
   "metadata": {},
   "outputs": [
    {
     "data": {
      "text/html": [
       "<div>\n",
       "<style scoped>\n",
       "    .dataframe tbody tr th:only-of-type {\n",
       "        vertical-align: middle;\n",
       "    }\n",
       "\n",
       "    .dataframe tbody tr th {\n",
       "        vertical-align: top;\n",
       "    }\n",
       "\n",
       "    .dataframe thead th {\n",
       "        text-align: right;\n",
       "    }\n",
       "</style>\n",
       "<table border=\"1\" class=\"dataframe\">\n",
       "  <thead>\n",
       "    <tr style=\"text-align: right;\">\n",
       "      <th></th>\n",
       "      <th>Job_Name</th>\n",
       "      <th>Company_Name</th>\n",
       "      <th>Time_Posted</th>\n",
       "      <th>Applicants</th>\n",
       "      <th>Location</th>\n",
       "      <th>Job_Type</th>\n",
       "    </tr>\n",
       "  </thead>\n",
       "  <tbody>\n",
       "    <tr>\n",
       "      <th>0</th>\n",
       "      <td>Opening for Java Full Stack Developer</td>\n",
       "      <td>LTIMindtree</td>\n",
       "      <td>2 hours ago</td>\n",
       "      <td>55 applicants</td>\n",
       "      <td>Pune, Maharashtra, India</td>\n",
       "      <td>Full-time</td>\n",
       "    </tr>\n",
       "    <tr>\n",
       "      <th>1</th>\n",
       "      <td>Senior Engineer Ã¢ÂÂ Backend (Java)</td>\n",
       "      <td>PayPal</td>\n",
       "      <td>2 hours ago</td>\n",
       "      <td>114 applicants</td>\n",
       "      <td>Bengaluru, Karnataka, India</td>\n",
       "      <td>Full-time</td>\n",
       "    </tr>\n",
       "    <tr>\n",
       "      <th>2</th>\n",
       "      <td>Sr. Software Engineer</td>\n",
       "      <td>Tech Mahindra</td>\n",
       "      <td>15 hours ago</td>\n",
       "      <td>183 applicants</td>\n",
       "      <td>Bengaluru, Karnataka, India</td>\n",
       "      <td>Contract</td>\n",
       "    </tr>\n",
       "    <tr>\n",
       "      <th>3</th>\n",
       "      <td>Full Stack Developer JAVA</td>\n",
       "      <td>Oracle</td>\n",
       "      <td>18 hours ago</td>\n",
       "      <td>55 applicants</td>\n",
       "      <td>Bengaluru, Karnataka, India</td>\n",
       "      <td>Full-time</td>\n",
       "    </tr>\n",
       "    <tr>\n",
       "      <th>4</th>\n",
       "      <td>Senior Java Software Engineer</td>\n",
       "      <td>idigilogic</td>\n",
       "      <td>18 hours ago</td>\n",
       "      <td>26 applicants</td>\n",
       "      <td>Bengaluru East, Karnataka, India</td>\n",
       "      <td>Full-time</td>\n",
       "    </tr>\n",
       "  </tbody>\n",
       "</table>\n",
       "</div>"
      ],
      "text/plain": [
       "                                Job_Name   Company_Name   Time_Posted  \\\n",
       "0  Opening for Java Full Stack Developer    LTIMindtree   2 hours ago   \n",
       "1  Senior Engineer Ã¢ÂÂ Backend (Java)         PayPal   2 hours ago   \n",
       "2                  Sr. Software Engineer  Tech Mahindra  15 hours ago   \n",
       "3              Full Stack Developer JAVA         Oracle  18 hours ago   \n",
       "4          Senior Java Software Engineer     idigilogic  18 hours ago   \n",
       "\n",
       "       Applicants                          Location   Job_Type  \n",
       "0   55 applicants          Pune, Maharashtra, India  Full-time  \n",
       "1  114 applicants       Bengaluru, Karnataka, India  Full-time  \n",
       "2  183 applicants       Bengaluru, Karnataka, India   Contract  \n",
       "3   55 applicants       Bengaluru, Karnataka, India  Full-time  \n",
       "4   26 applicants  Bengaluru East, Karnataka, India  Full-time  "
      ]
     },
     "execution_count": 23,
     "metadata": {},
     "output_type": "execute_result"
    }
   ],
   "source": [
    "df.head()"
   ]
  },
  {
   "cell_type": "code",
   "execution_count": 25,
   "id": "1765d467-7aec-441b-bb63-a37bd78ee990",
   "metadata": {},
   "outputs": [
    {
     "data": {
      "text/plain": [
       "(3005, 6)"
      ]
     },
     "execution_count": 25,
     "metadata": {},
     "output_type": "execute_result"
    }
   ],
   "source": [
    "df.shape"
   ]
  },
  {
   "cell_type": "markdown",
   "id": "d844f561-0ed2-403b-b266-d00e48bc395c",
   "metadata": {},
   "source": [
    "#### There are 3005 rows and 6 features in our dataset."
   ]
  },
  {
   "cell_type": "code",
   "execution_count": 28,
   "id": "bef5dec6-d198-415d-82b4-f3e2f490a400",
   "metadata": {},
   "outputs": [
    {
     "name": "stdout",
     "output_type": "stream",
     "text": [
      "<class 'pandas.core.frame.DataFrame'>\n",
      "RangeIndex: 3005 entries, 0 to 3004\n",
      "Data columns (total 6 columns):\n",
      " #   Column        Non-Null Count  Dtype \n",
      "---  ------        --------------  ----- \n",
      " 0   Job_Name      3005 non-null   object\n",
      " 1   Company_Name  3005 non-null   object\n",
      " 2   Time_Posted   2271 non-null   object\n",
      " 3   Applicants    2008 non-null   object\n",
      " 4   Location      3005 non-null   object\n",
      " 5   Job_Type      2173 non-null   object\n",
      "dtypes: object(6)\n",
      "memory usage: 141.0+ KB\n"
     ]
    }
   ],
   "source": [
    "df.info()"
   ]
  },
  {
   "cell_type": "code",
   "execution_count": 30,
   "id": "9e3f85e8-e27a-4819-8e65-0e0b475ab653",
   "metadata": {},
   "outputs": [
    {
     "data": {
      "text/plain": [
       "Job_Name        object\n",
       "Company_Name    object\n",
       "Time_Posted     object\n",
       "Applicants      object\n",
       "Location        object\n",
       "Job_Type        object\n",
       "dtype: object"
      ]
     },
     "execution_count": 30,
     "metadata": {},
     "output_type": "execute_result"
    }
   ],
   "source": [
    "df.dtypes"
   ]
  },
  {
   "cell_type": "markdown",
   "id": "1b9761c1-bb2e-47ab-a66b-ff16238bf008",
   "metadata": {},
   "source": [
    "#### All the 6 features having \" object \" data type."
   ]
  },
  {
   "cell_type": "code",
   "execution_count": 33,
   "id": "83d66126-9c9e-434a-af86-ae022ca9730e",
   "metadata": {},
   "outputs": [
    {
     "data": {
      "text/html": [
       "<div>\n",
       "<style scoped>\n",
       "    .dataframe tbody tr th:only-of-type {\n",
       "        vertical-align: middle;\n",
       "    }\n",
       "\n",
       "    .dataframe tbody tr th {\n",
       "        vertical-align: top;\n",
       "    }\n",
       "\n",
       "    .dataframe thead th {\n",
       "        text-align: right;\n",
       "    }\n",
       "</style>\n",
       "<table border=\"1\" class=\"dataframe\">\n",
       "  <thead>\n",
       "    <tr style=\"text-align: right;\">\n",
       "      <th></th>\n",
       "      <th>Job_Name</th>\n",
       "      <th>Company_Name</th>\n",
       "      <th>Time_Posted</th>\n",
       "      <th>Applicants</th>\n",
       "      <th>Location</th>\n",
       "      <th>Job_Type</th>\n",
       "    </tr>\n",
       "  </thead>\n",
       "  <tbody>\n",
       "    <tr>\n",
       "      <th>count</th>\n",
       "      <td>3005</td>\n",
       "      <td>3005</td>\n",
       "      <td>2271</td>\n",
       "      <td>2008</td>\n",
       "      <td>3005</td>\n",
       "      <td>2173</td>\n",
       "    </tr>\n",
       "    <tr>\n",
       "      <th>unique</th>\n",
       "      <td>1601</td>\n",
       "      <td>1040</td>\n",
       "      <td>57</td>\n",
       "      <td>197</td>\n",
       "      <td>181</td>\n",
       "      <td>4</td>\n",
       "    </tr>\n",
       "    <tr>\n",
       "      <th>top</th>\n",
       "      <td>Data Analyst</td>\n",
       "      <td>Tata Consultancy Services</td>\n",
       "      <td>1 day ago</td>\n",
       "      <td>200</td>\n",
       "      <td>Bengaluru, Karnataka, India</td>\n",
       "      <td>Full-time</td>\n",
       "    </tr>\n",
       "    <tr>\n",
       "      <th>freq</th>\n",
       "      <td>119</td>\n",
       "      <td>79</td>\n",
       "      <td>289</td>\n",
       "      <td>99</td>\n",
       "      <td>751</td>\n",
       "      <td>1487</td>\n",
       "    </tr>\n",
       "  </tbody>\n",
       "</table>\n",
       "</div>"
      ],
      "text/plain": [
       "            Job_Name               Company_Name Time_Posted Applicants  \\\n",
       "count           3005                       3005        2271       2008   \n",
       "unique          1601                       1040          57        197   \n",
       "top     Data Analyst  Tata Consultancy Services   1 day ago        200   \n",
       "freq             119                         79         289         99   \n",
       "\n",
       "                           Location   Job_Type  \n",
       "count                          3005       2173  \n",
       "unique                          181          4  \n",
       "top     Bengaluru, Karnataka, India  Full-time  \n",
       "freq                            751       1487  "
      ]
     },
     "execution_count": 33,
     "metadata": {},
     "output_type": "execute_result"
    }
   ],
   "source": [
    "df.describe()"
   ]
  },
  {
   "cell_type": "markdown",
   "id": "de84977a-3bf2-40ce-8c0c-04d06171093d",
   "metadata": {},
   "source": [
    "#### The dataset has 1,601 unique jobs, 1,040 unique companies, and 181 unique locations"
   ]
  },
  {
   "cell_type": "code",
   "execution_count": 36,
   "id": "53cee3fb-016a-44bc-8224-5d24adcee132",
   "metadata": {},
   "outputs": [
    {
     "data": {
      "text/plain": [
       "Job_Name          0\n",
       "Company_Name      0\n",
       "Time_Posted     734\n",
       "Applicants      997\n",
       "Location          0\n",
       "Job_Type        832\n",
       "dtype: int64"
      ]
     },
     "execution_count": 36,
     "metadata": {},
     "output_type": "execute_result"
    }
   ],
   "source": [
    "df.isnull().sum()"
   ]
  },
  {
   "cell_type": "markdown",
   "id": "9771c253-fd09-4464-a139-fe031506acad",
   "metadata": {},
   "source": [
    "#### There are 3 columns in null values present in dataset so we remove the rows containing null values."
   ]
  },
  {
   "cell_type": "markdown",
   "id": "c1dfdd2f-f888-421c-a3df-44192736034b",
   "metadata": {},
   "source": [
    "### **Handling Missing Values**"
   ]
  },
  {
   "cell_type": "code",
   "execution_count": 40,
   "id": "e1013480-aa47-4a79-bbef-0a0816272f32",
   "metadata": {},
   "outputs": [
    {
     "name": "stdout",
     "output_type": "stream",
     "text": [
      "Job_Name        0\n",
      "Company_Name    0\n",
      "Time_Posted     0\n",
      "Applicants      0\n",
      "Location        0\n",
      "Job_Type        0\n",
      "dtype: int64\n"
     ]
    }
   ],
   "source": [
    "df.dropna(inplace = True)\n",
    "print(df.isnull().sum())"
   ]
  },
  {
   "cell_type": "code",
   "execution_count": 42,
   "id": "8c3724e0-6656-4f02-91a0-716ef37d4275",
   "metadata": {},
   "outputs": [
    {
     "data": {
      "text/plain": [
       "(1878, 6)"
      ]
     },
     "execution_count": 42,
     "metadata": {},
     "output_type": "execute_result"
    }
   ],
   "source": [
    "df.shape"
   ]
  },
  {
   "cell_type": "markdown",
   "id": "cb3a2b4d-d2e1-4c2d-bc1c-10129d991c24",
   "metadata": {},
   "source": [
    "#### After removing the null values, there are 1878 rows are there."
   ]
  },
  {
   "cell_type": "markdown",
   "id": "ff833120-a9f6-4f7d-8e51-ff5ac1b15dda",
   "metadata": {},
   "source": [
    "### **Removing Duplicate Values**"
   ]
  },
  {
   "cell_type": "code",
   "execution_count": 46,
   "id": "4e8f9c7f-5113-4bd7-96bc-8486d625305c",
   "metadata": {},
   "outputs": [
    {
     "data": {
      "text/html": [
       "<div>\n",
       "<style scoped>\n",
       "    .dataframe tbody tr th:only-of-type {\n",
       "        vertical-align: middle;\n",
       "    }\n",
       "\n",
       "    .dataframe tbody tr th {\n",
       "        vertical-align: top;\n",
       "    }\n",
       "\n",
       "    .dataframe thead th {\n",
       "        text-align: right;\n",
       "    }\n",
       "</style>\n",
       "<table border=\"1\" class=\"dataframe\">\n",
       "  <thead>\n",
       "    <tr style=\"text-align: right;\">\n",
       "      <th></th>\n",
       "      <th>Job_Name</th>\n",
       "      <th>Company_Name</th>\n",
       "      <th>Time_Posted</th>\n",
       "      <th>Applicants</th>\n",
       "      <th>Location</th>\n",
       "      <th>Job_Type</th>\n",
       "    </tr>\n",
       "  </thead>\n",
       "  <tbody>\n",
       "    <tr>\n",
       "      <th>0</th>\n",
       "      <td>Opening for Java Full Stack Developer</td>\n",
       "      <td>LTIMindtree</td>\n",
       "      <td>2 hours ago</td>\n",
       "      <td>55 applicants</td>\n",
       "      <td>Pune, Maharashtra, India</td>\n",
       "      <td>Full-time</td>\n",
       "    </tr>\n",
       "    <tr>\n",
       "      <th>1</th>\n",
       "      <td>Senior Engineer Ã¢ÂÂ Backend (Java)</td>\n",
       "      <td>PayPal</td>\n",
       "      <td>2 hours ago</td>\n",
       "      <td>114 applicants</td>\n",
       "      <td>Bengaluru, Karnataka, India</td>\n",
       "      <td>Full-time</td>\n",
       "    </tr>\n",
       "    <tr>\n",
       "      <th>2</th>\n",
       "      <td>Sr. Software Engineer</td>\n",
       "      <td>Tech Mahindra</td>\n",
       "      <td>15 hours ago</td>\n",
       "      <td>183 applicants</td>\n",
       "      <td>Bengaluru, Karnataka, India</td>\n",
       "      <td>Contract</td>\n",
       "    </tr>\n",
       "    <tr>\n",
       "      <th>3</th>\n",
       "      <td>Full Stack Developer JAVA</td>\n",
       "      <td>Oracle</td>\n",
       "      <td>18 hours ago</td>\n",
       "      <td>55 applicants</td>\n",
       "      <td>Bengaluru, Karnataka, India</td>\n",
       "      <td>Full-time</td>\n",
       "    </tr>\n",
       "    <tr>\n",
       "      <th>4</th>\n",
       "      <td>Senior Java Software Engineer</td>\n",
       "      <td>idigilogic</td>\n",
       "      <td>18 hours ago</td>\n",
       "      <td>26 applicants</td>\n",
       "      <td>Bengaluru East, Karnataka, India</td>\n",
       "      <td>Full-time</td>\n",
       "    </tr>\n",
       "    <tr>\n",
       "      <th>...</th>\n",
       "      <td>...</td>\n",
       "      <td>...</td>\n",
       "      <td>...</td>\n",
       "      <td>...</td>\n",
       "      <td>...</td>\n",
       "      <td>...</td>\n",
       "    </tr>\n",
       "    <tr>\n",
       "      <th>1873</th>\n",
       "      <td>Head of Generative AI Specialist, Blackbelt, G...</td>\n",
       "      <td>Google</td>\n",
       "      <td>1 week ago</td>\n",
       "      <td>38 applicants</td>\n",
       "      <td>Bengaluru, Karnataka, India</td>\n",
       "      <td>Full-time</td>\n",
       "    </tr>\n",
       "    <tr>\n",
       "      <th>1874</th>\n",
       "      <td>AI/ML Engineer</td>\n",
       "      <td>Maieutic Semiconductors</td>\n",
       "      <td>3 days ago</td>\n",
       "      <td>35 applicants</td>\n",
       "      <td>Bengaluru, Karnataka, India</td>\n",
       "      <td>Full-time</td>\n",
       "    </tr>\n",
       "    <tr>\n",
       "      <th>1875</th>\n",
       "      <td>Data Analyst - Product Analytics</td>\n",
       "      <td>Thomson Reuters</td>\n",
       "      <td>3 days ago</td>\n",
       "      <td>119 applicants</td>\n",
       "      <td>Bengaluru, Karnataka, India</td>\n",
       "      <td>Full-time</td>\n",
       "    </tr>\n",
       "    <tr>\n",
       "      <th>1876</th>\n",
       "      <td>AI ML Engineer - Deep Learning (LLM, LSTM, Neu...</td>\n",
       "      <td>SOLIZE India Technologies Private Limited</td>\n",
       "      <td>1 week ago</td>\n",
       "      <td>60 applicants</td>\n",
       "      <td>Bengaluru, Karnataka, India</td>\n",
       "      <td>Full-time</td>\n",
       "    </tr>\n",
       "    <tr>\n",
       "      <th>1877</th>\n",
       "      <td>AI Engineer</td>\n",
       "      <td>MKU</td>\n",
       "      <td>1 week ago</td>\n",
       "      <td>155 applicants</td>\n",
       "      <td>Gurugram, Haryana, India</td>\n",
       "      <td>Full-time</td>\n",
       "    </tr>\n",
       "  </tbody>\n",
       "</table>\n",
       "<p>1878 rows × 6 columns</p>\n",
       "</div>"
      ],
      "text/plain": [
       "                                               Job_Name  \\\n",
       "0                 Opening for Java Full Stack Developer   \n",
       "1                 Senior Engineer Ã¢ÂÂ Backend (Java)   \n",
       "2                                 Sr. Software Engineer   \n",
       "3                             Full Stack Developer JAVA   \n",
       "4                         Senior Java Software Engineer   \n",
       "...                                                 ...   \n",
       "1873  Head of Generative AI Specialist, Blackbelt, G...   \n",
       "1874                                     AI/ML Engineer   \n",
       "1875                   Data Analyst - Product Analytics   \n",
       "1876  AI ML Engineer - Deep Learning (LLM, LSTM, Neu...   \n",
       "1877                                        AI Engineer   \n",
       "\n",
       "                                   Company_Name   Time_Posted      Applicants  \\\n",
       "0                                   LTIMindtree   2 hours ago   55 applicants   \n",
       "1                                        PayPal   2 hours ago  114 applicants   \n",
       "2                                 Tech Mahindra  15 hours ago  183 applicants   \n",
       "3                                        Oracle  18 hours ago   55 applicants   \n",
       "4                                    idigilogic  18 hours ago   26 applicants   \n",
       "...                                         ...           ...             ...   \n",
       "1873                                     Google    1 week ago   38 applicants   \n",
       "1874                    Maieutic Semiconductors    3 days ago   35 applicants   \n",
       "1875                            Thomson Reuters    3 days ago  119 applicants   \n",
       "1876  SOLIZE India Technologies Private Limited    1 week ago   60 applicants   \n",
       "1877                                        MKU    1 week ago  155 applicants   \n",
       "\n",
       "                              Location   Job_Type  \n",
       "0             Pune, Maharashtra, India  Full-time  \n",
       "1          Bengaluru, Karnataka, India  Full-time  \n",
       "2          Bengaluru, Karnataka, India   Contract  \n",
       "3          Bengaluru, Karnataka, India  Full-time  \n",
       "4     Bengaluru East, Karnataka, India  Full-time  \n",
       "...                                ...        ...  \n",
       "1873       Bengaluru, Karnataka, India  Full-time  \n",
       "1874       Bengaluru, Karnataka, India  Full-time  \n",
       "1875       Bengaluru, Karnataka, India  Full-time  \n",
       "1876       Bengaluru, Karnataka, India  Full-time  \n",
       "1877          Gurugram, Haryana, India  Full-time  \n",
       "\n",
       "[1878 rows x 6 columns]"
      ]
     },
     "execution_count": 46,
     "metadata": {},
     "output_type": "execute_result"
    }
   ],
   "source": [
    "df1 = df.dropna().reset_index(drop = True)\n",
    "df1"
   ]
  },
  {
   "cell_type": "code",
   "execution_count": 48,
   "id": "a93564b6-d684-4b14-a9cd-65c3534bab5d",
   "metadata": {},
   "outputs": [
    {
     "data": {
      "text/html": [
       "<div>\n",
       "<style scoped>\n",
       "    .dataframe tbody tr th:only-of-type {\n",
       "        vertical-align: middle;\n",
       "    }\n",
       "\n",
       "    .dataframe tbody tr th {\n",
       "        vertical-align: top;\n",
       "    }\n",
       "\n",
       "    .dataframe thead th {\n",
       "        text-align: right;\n",
       "    }\n",
       "</style>\n",
       "<table border=\"1\" class=\"dataframe\">\n",
       "  <thead>\n",
       "    <tr style=\"text-align: right;\">\n",
       "      <th></th>\n",
       "      <th>Job_Name</th>\n",
       "      <th>Company_Name</th>\n",
       "      <th>Time_Posted</th>\n",
       "      <th>Applicants</th>\n",
       "      <th>Location</th>\n",
       "      <th>Job_Type</th>\n",
       "    </tr>\n",
       "  </thead>\n",
       "  <tbody>\n",
       "    <tr>\n",
       "      <th>1844</th>\n",
       "      <td>Product Analyst</td>\n",
       "      <td>HireQuotient</td>\n",
       "      <td>3 weeks ago</td>\n",
       "      <td>95 applicants</td>\n",
       "      <td>Bengaluru, Karnataka, India</td>\n",
       "      <td>Full-time</td>\n",
       "    </tr>\n",
       "    <tr>\n",
       "      <th>1847</th>\n",
       "      <td>Director Data Science</td>\n",
       "      <td>Sigmoid</td>\n",
       "      <td>3 weeks ago</td>\n",
       "      <td>157 applicants</td>\n",
       "      <td>Bengaluru, Karnataka, India</td>\n",
       "      <td>Full-time</td>\n",
       "    </tr>\n",
       "    <tr>\n",
       "      <th>1849</th>\n",
       "      <td>Head of Generative AI Specialist, Blackbelt, G...</td>\n",
       "      <td>Google</td>\n",
       "      <td>1 week ago</td>\n",
       "      <td>38 applicants</td>\n",
       "      <td>Bengaluru, Karnataka, India</td>\n",
       "      <td>Full-time</td>\n",
       "    </tr>\n",
       "    <tr>\n",
       "      <th>1855</th>\n",
       "      <td>Engineer - Customer Service</td>\n",
       "      <td>Gunnebo Entrance Control</td>\n",
       "      <td>2 days ago</td>\n",
       "      <td>42 applicants</td>\n",
       "      <td>Gurugram, Haryana, India</td>\n",
       "      <td>Full-time</td>\n",
       "    </tr>\n",
       "    <tr>\n",
       "      <th>1856</th>\n",
       "      <td>Contract Engineer</td>\n",
       "      <td>Larsen &amp; Toubro</td>\n",
       "      <td>1 day ago</td>\n",
       "      <td>102 applicants</td>\n",
       "      <td>Vadodara, Gujarat, India</td>\n",
       "      <td>Full-time</td>\n",
       "    </tr>\n",
       "    <tr>\n",
       "      <th>1857</th>\n",
       "      <td>Java Developer (Backend developer)</td>\n",
       "      <td>KBC Technologies Group</td>\n",
       "      <td>3 days ago</td>\n",
       "      <td>33 applicants</td>\n",
       "      <td>Chennai, Tamil Nadu, India</td>\n",
       "      <td>Full-time</td>\n",
       "    </tr>\n",
       "    <tr>\n",
       "      <th>1858</th>\n",
       "      <td>Java Developer</td>\n",
       "      <td>HighRadius</td>\n",
       "      <td>3 days ago</td>\n",
       "      <td>107 applicants</td>\n",
       "      <td>Hyderabad, Telangana, India</td>\n",
       "      <td>Full-time</td>\n",
       "    </tr>\n",
       "    <tr>\n",
       "      <th>1859</th>\n",
       "      <td>Chief Engineer</td>\n",
       "      <td>Pullman Hotels &amp; Resorts</td>\n",
       "      <td>5 days ago</td>\n",
       "      <td>48 applicants</td>\n",
       "      <td>Delhi, Delhi, India</td>\n",
       "      <td>Full-time</td>\n",
       "    </tr>\n",
       "    <tr>\n",
       "      <th>1860</th>\n",
       "      <td>Senior Engineer</td>\n",
       "      <td>Deutsche Bank</td>\n",
       "      <td>1 day ago</td>\n",
       "      <td>46 applicants</td>\n",
       "      <td>Pune, Maharashtra, India</td>\n",
       "      <td>Full-time</td>\n",
       "    </tr>\n",
       "    <tr>\n",
       "      <th>1861</th>\n",
       "      <td>Senior Java Software Engineer</td>\n",
       "      <td>Blue Spire Inc</td>\n",
       "      <td>2 days ago</td>\n",
       "      <td>158 applicants</td>\n",
       "      <td>Hyderabad, Telangana, India</td>\n",
       "      <td>Full-time</td>\n",
       "    </tr>\n",
       "    <tr>\n",
       "      <th>1862</th>\n",
       "      <td>Java Application Developer</td>\n",
       "      <td>TRD STUDIOS | Business Life Cycle Management C...</td>\n",
       "      <td>1 day ago</td>\n",
       "      <td>40 applicants</td>\n",
       "      <td>Chennai, Tamil Nadu, India</td>\n",
       "      <td>Full-time</td>\n",
       "    </tr>\n",
       "    <tr>\n",
       "      <th>1863</th>\n",
       "      <td>Java Developer</td>\n",
       "      <td>Aqilea</td>\n",
       "      <td>2 days ago</td>\n",
       "      <td>75 applicants</td>\n",
       "      <td>Hyderabad, Telangana, India</td>\n",
       "      <td>Full-time</td>\n",
       "    </tr>\n",
       "    <tr>\n",
       "      <th>1864</th>\n",
       "      <td>EXECUTIVE I - STRATEGY &amp; NEW BUSINESSES</td>\n",
       "      <td>Asian Paints</td>\n",
       "      <td>2 days ago</td>\n",
       "      <td>74 applicants</td>\n",
       "      <td>Mumbai Metropolitan Region</td>\n",
       "      <td>Full-time</td>\n",
       "    </tr>\n",
       "    <tr>\n",
       "      <th>1865</th>\n",
       "      <td>Business Intelligence Analyst</td>\n",
       "      <td>Pinnacle Group, Inc.</td>\n",
       "      <td>1 day ago</td>\n",
       "      <td>106 applicants</td>\n",
       "      <td>Churachandpur, Manipur, India</td>\n",
       "      <td>Full-time</td>\n",
       "    </tr>\n",
       "    <tr>\n",
       "      <th>1866</th>\n",
       "      <td>WHS Officer</td>\n",
       "      <td>Amazon</td>\n",
       "      <td>2 days ago</td>\n",
       "      <td>50 applicants</td>\n",
       "      <td>Unnao, Uttar Pradesh, India</td>\n",
       "      <td>Full-time</td>\n",
       "    </tr>\n",
       "    <tr>\n",
       "      <th>1867</th>\n",
       "      <td>QA Officer</td>\n",
       "      <td>QIMA</td>\n",
       "      <td>2 days ago</td>\n",
       "      <td>41 applicants</td>\n",
       "      <td>New Delhi, Delhi, India</td>\n",
       "      <td>Full-time</td>\n",
       "    </tr>\n",
       "    <tr>\n",
       "      <th>1868</th>\n",
       "      <td>Draftsman/AutoCAD  Operator</td>\n",
       "      <td>Balaji Railroad Systems Pvt Ltd (BARSYL)</td>\n",
       "      <td>2 days ago</td>\n",
       "      <td>73 applicants</td>\n",
       "      <td>Bengaluru, Karnataka, India</td>\n",
       "      <td>Full-time</td>\n",
       "    </tr>\n",
       "    <tr>\n",
       "      <th>1869</th>\n",
       "      <td>AI Engineer</td>\n",
       "      <td>HireQuotient</td>\n",
       "      <td>3 days ago</td>\n",
       "      <td>88 applicants</td>\n",
       "      <td>Bengaluru, Karnataka, India</td>\n",
       "      <td>Full-time</td>\n",
       "    </tr>\n",
       "    <tr>\n",
       "      <th>1870</th>\n",
       "      <td>Product Analyst</td>\n",
       "      <td>HireQuotient</td>\n",
       "      <td>3 weeks ago</td>\n",
       "      <td>95 applicants</td>\n",
       "      <td>Bengaluru, Karnataka, India</td>\n",
       "      <td>Full-time</td>\n",
       "    </tr>\n",
       "    <tr>\n",
       "      <th>1871</th>\n",
       "      <td>Head of Analytics</td>\n",
       "      <td>Taglynk</td>\n",
       "      <td>2 weeks ago</td>\n",
       "      <td>195 applicants</td>\n",
       "      <td>Bengaluru, Karnataka, India</td>\n",
       "      <td>Full-time</td>\n",
       "    </tr>\n",
       "    <tr>\n",
       "      <th>1872</th>\n",
       "      <td>Director Data Science</td>\n",
       "      <td>Sigmoid</td>\n",
       "      <td>3 weeks ago</td>\n",
       "      <td>157 applicants</td>\n",
       "      <td>Bengaluru, Karnataka, India</td>\n",
       "      <td>Full-time</td>\n",
       "    </tr>\n",
       "    <tr>\n",
       "      <th>1873</th>\n",
       "      <td>Head of Generative AI Specialist, Blackbelt, G...</td>\n",
       "      <td>Google</td>\n",
       "      <td>1 week ago</td>\n",
       "      <td>38 applicants</td>\n",
       "      <td>Bengaluru, Karnataka, India</td>\n",
       "      <td>Full-time</td>\n",
       "    </tr>\n",
       "    <tr>\n",
       "      <th>1874</th>\n",
       "      <td>AI/ML Engineer</td>\n",
       "      <td>Maieutic Semiconductors</td>\n",
       "      <td>3 days ago</td>\n",
       "      <td>35 applicants</td>\n",
       "      <td>Bengaluru, Karnataka, India</td>\n",
       "      <td>Full-time</td>\n",
       "    </tr>\n",
       "    <tr>\n",
       "      <th>1876</th>\n",
       "      <td>AI ML Engineer - Deep Learning (LLM, LSTM, Neu...</td>\n",
       "      <td>SOLIZE India Technologies Private Limited</td>\n",
       "      <td>1 week ago</td>\n",
       "      <td>60 applicants</td>\n",
       "      <td>Bengaluru, Karnataka, India</td>\n",
       "      <td>Full-time</td>\n",
       "    </tr>\n",
       "    <tr>\n",
       "      <th>1877</th>\n",
       "      <td>AI Engineer</td>\n",
       "      <td>MKU</td>\n",
       "      <td>1 week ago</td>\n",
       "      <td>155 applicants</td>\n",
       "      <td>Gurugram, Haryana, India</td>\n",
       "      <td>Full-time</td>\n",
       "    </tr>\n",
       "  </tbody>\n",
       "</table>\n",
       "</div>"
      ],
      "text/plain": [
       "                                               Job_Name  \\\n",
       "1844                                    Product Analyst   \n",
       "1847                              Director Data Science   \n",
       "1849  Head of Generative AI Specialist, Blackbelt, G...   \n",
       "1855                        Engineer - Customer Service   \n",
       "1856                                  Contract Engineer   \n",
       "1857                 Java Developer (Backend developer)   \n",
       "1858                                     Java Developer   \n",
       "1859                                     Chief Engineer   \n",
       "1860                                    Senior Engineer   \n",
       "1861                      Senior Java Software Engineer   \n",
       "1862                         Java Application Developer   \n",
       "1863                                     Java Developer   \n",
       "1864            EXECUTIVE I - STRATEGY & NEW BUSINESSES   \n",
       "1865                      Business Intelligence Analyst   \n",
       "1866                                        WHS Officer   \n",
       "1867                                         QA Officer   \n",
       "1868                        Draftsman/AutoCAD  Operator   \n",
       "1869                                        AI Engineer   \n",
       "1870                                    Product Analyst   \n",
       "1871                                  Head of Analytics   \n",
       "1872                              Director Data Science   \n",
       "1873  Head of Generative AI Specialist, Blackbelt, G...   \n",
       "1874                                     AI/ML Engineer   \n",
       "1876  AI ML Engineer - Deep Learning (LLM, LSTM, Neu...   \n",
       "1877                                        AI Engineer   \n",
       "\n",
       "                                           Company_Name  Time_Posted  \\\n",
       "1844                                       HireQuotient  3 weeks ago   \n",
       "1847                                            Sigmoid  3 weeks ago   \n",
       "1849                                             Google   1 week ago   \n",
       "1855                           Gunnebo Entrance Control   2 days ago   \n",
       "1856                                    Larsen & Toubro    1 day ago   \n",
       "1857                             KBC Technologies Group   3 days ago   \n",
       "1858                                         HighRadius   3 days ago   \n",
       "1859                           Pullman Hotels & Resorts   5 days ago   \n",
       "1860                                      Deutsche Bank    1 day ago   \n",
       "1861                                     Blue Spire Inc   2 days ago   \n",
       "1862  TRD STUDIOS | Business Life Cycle Management C...    1 day ago   \n",
       "1863                                             Aqilea   2 days ago   \n",
       "1864                                       Asian Paints   2 days ago   \n",
       "1865                               Pinnacle Group, Inc.    1 day ago   \n",
       "1866                                             Amazon   2 days ago   \n",
       "1867                                               QIMA   2 days ago   \n",
       "1868           Balaji Railroad Systems Pvt Ltd (BARSYL)   2 days ago   \n",
       "1869                                       HireQuotient   3 days ago   \n",
       "1870                                       HireQuotient  3 weeks ago   \n",
       "1871                                            Taglynk  2 weeks ago   \n",
       "1872                                            Sigmoid  3 weeks ago   \n",
       "1873                                             Google   1 week ago   \n",
       "1874                            Maieutic Semiconductors   3 days ago   \n",
       "1876          SOLIZE India Technologies Private Limited   1 week ago   \n",
       "1877                                                MKU   1 week ago   \n",
       "\n",
       "          Applicants                       Location   Job_Type  \n",
       "1844   95 applicants    Bengaluru, Karnataka, India  Full-time  \n",
       "1847  157 applicants    Bengaluru, Karnataka, India  Full-time  \n",
       "1849   38 applicants    Bengaluru, Karnataka, India  Full-time  \n",
       "1855   42 applicants       Gurugram, Haryana, India  Full-time  \n",
       "1856  102 applicants       Vadodara, Gujarat, India  Full-time  \n",
       "1857   33 applicants     Chennai, Tamil Nadu, India  Full-time  \n",
       "1858  107 applicants    Hyderabad, Telangana, India  Full-time  \n",
       "1859   48 applicants            Delhi, Delhi, India  Full-time  \n",
       "1860   46 applicants       Pune, Maharashtra, India  Full-time  \n",
       "1861  158 applicants    Hyderabad, Telangana, India  Full-time  \n",
       "1862   40 applicants     Chennai, Tamil Nadu, India  Full-time  \n",
       "1863   75 applicants    Hyderabad, Telangana, India  Full-time  \n",
       "1864   74 applicants     Mumbai Metropolitan Region  Full-time  \n",
       "1865  106 applicants  Churachandpur, Manipur, India  Full-time  \n",
       "1866   50 applicants    Unnao, Uttar Pradesh, India  Full-time  \n",
       "1867   41 applicants        New Delhi, Delhi, India  Full-time  \n",
       "1868   73 applicants    Bengaluru, Karnataka, India  Full-time  \n",
       "1869   88 applicants    Bengaluru, Karnataka, India  Full-time  \n",
       "1870   95 applicants    Bengaluru, Karnataka, India  Full-time  \n",
       "1871  195 applicants    Bengaluru, Karnataka, India  Full-time  \n",
       "1872  157 applicants    Bengaluru, Karnataka, India  Full-time  \n",
       "1873   38 applicants    Bengaluru, Karnataka, India  Full-time  \n",
       "1874   35 applicants    Bengaluru, Karnataka, India  Full-time  \n",
       "1876   60 applicants    Bengaluru, Karnataka, India  Full-time  \n",
       "1877  155 applicants       Gurugram, Haryana, India  Full-time  "
      ]
     },
     "execution_count": 48,
     "metadata": {},
     "output_type": "execute_result"
    }
   ],
   "source": [
    "df1[df1.duplicated()]"
   ]
  },
  {
   "cell_type": "code",
   "execution_count": 50,
   "id": "0160d9b1-24a5-4b66-986e-e0f3c11032f6",
   "metadata": {},
   "outputs": [
    {
     "data": {
      "text/plain": [
       "(25, 6)"
      ]
     },
     "execution_count": 50,
     "metadata": {},
     "output_type": "execute_result"
    }
   ],
   "source": [
    "df1[df1.duplicated()].shape"
   ]
  },
  {
   "cell_type": "markdown",
   "id": "45e8aa9f-1a41-40cb-be53-e1925d191e47",
   "metadata": {},
   "source": [
    "#### There are 25 duplicate rows present"
   ]
  },
  {
   "cell_type": "code",
   "execution_count": 53,
   "id": "021c9f9a-ee66-4b2c-8d35-5e99963a70d9",
   "metadata": {},
   "outputs": [
    {
     "data": {
      "text/html": [
       "<div>\n",
       "<style scoped>\n",
       "    .dataframe tbody tr th:only-of-type {\n",
       "        vertical-align: middle;\n",
       "    }\n",
       "\n",
       "    .dataframe tbody tr th {\n",
       "        vertical-align: top;\n",
       "    }\n",
       "\n",
       "    .dataframe thead th {\n",
       "        text-align: right;\n",
       "    }\n",
       "</style>\n",
       "<table border=\"1\" class=\"dataframe\">\n",
       "  <thead>\n",
       "    <tr style=\"text-align: right;\">\n",
       "      <th></th>\n",
       "      <th>Job_Name</th>\n",
       "      <th>Company_Name</th>\n",
       "      <th>Time_Posted</th>\n",
       "      <th>Applicants</th>\n",
       "      <th>Location</th>\n",
       "      <th>Job_Type</th>\n",
       "    </tr>\n",
       "  </thead>\n",
       "  <tbody>\n",
       "    <tr>\n",
       "      <th>0</th>\n",
       "      <td>Opening for Java Full Stack Developer</td>\n",
       "      <td>LTIMindtree</td>\n",
       "      <td>2 hours ago</td>\n",
       "      <td>55 applicants</td>\n",
       "      <td>Pune, Maharashtra, India</td>\n",
       "      <td>Full-time</td>\n",
       "    </tr>\n",
       "    <tr>\n",
       "      <th>1</th>\n",
       "      <td>Senior Engineer Ã¢ÂÂ Backend (Java)</td>\n",
       "      <td>PayPal</td>\n",
       "      <td>2 hours ago</td>\n",
       "      <td>114 applicants</td>\n",
       "      <td>Bengaluru, Karnataka, India</td>\n",
       "      <td>Full-time</td>\n",
       "    </tr>\n",
       "    <tr>\n",
       "      <th>2</th>\n",
       "      <td>Sr. Software Engineer</td>\n",
       "      <td>Tech Mahindra</td>\n",
       "      <td>15 hours ago</td>\n",
       "      <td>183 applicants</td>\n",
       "      <td>Bengaluru, Karnataka, India</td>\n",
       "      <td>Contract</td>\n",
       "    </tr>\n",
       "    <tr>\n",
       "      <th>3</th>\n",
       "      <td>Full Stack Developer JAVA</td>\n",
       "      <td>Oracle</td>\n",
       "      <td>18 hours ago</td>\n",
       "      <td>55 applicants</td>\n",
       "      <td>Bengaluru, Karnataka, India</td>\n",
       "      <td>Full-time</td>\n",
       "    </tr>\n",
       "    <tr>\n",
       "      <th>4</th>\n",
       "      <td>Senior Java Software Engineer</td>\n",
       "      <td>idigilogic</td>\n",
       "      <td>18 hours ago</td>\n",
       "      <td>26 applicants</td>\n",
       "      <td>Bengaluru East, Karnataka, India</td>\n",
       "      <td>Full-time</td>\n",
       "    </tr>\n",
       "    <tr>\n",
       "      <th>...</th>\n",
       "      <td>...</td>\n",
       "      <td>...</td>\n",
       "      <td>...</td>\n",
       "      <td>...</td>\n",
       "      <td>...</td>\n",
       "      <td>...</td>\n",
       "    </tr>\n",
       "    <tr>\n",
       "      <th>1851</th>\n",
       "      <td>Assistant Manager</td>\n",
       "      <td>BNP Paribas CIB</td>\n",
       "      <td>1 day ago</td>\n",
       "      <td>132 applicants</td>\n",
       "      <td>Mumbai, Maharashtra, India</td>\n",
       "      <td>Full-time</td>\n",
       "    </tr>\n",
       "    <tr>\n",
       "      <th>1852</th>\n",
       "      <td>Finance Intern</td>\n",
       "      <td>The Muthoot Group</td>\n",
       "      <td>1 day ago</td>\n",
       "      <td>157 applicants</td>\n",
       "      <td>Belagavi, Karnataka, India</td>\n",
       "      <td>Internship</td>\n",
       "    </tr>\n",
       "    <tr>\n",
       "      <th>1853</th>\n",
       "      <td>Sales Advisor</td>\n",
       "      <td>H&amp;M</td>\n",
       "      <td>2 days ago</td>\n",
       "      <td>66 applicants</td>\n",
       "      <td>Indore, Madhya Pradesh, India</td>\n",
       "      <td>Full-time</td>\n",
       "    </tr>\n",
       "    <tr>\n",
       "      <th>1854</th>\n",
       "      <td>RP Sanjiv Goenka Group - Senior Manager - Pack...</td>\n",
       "      <td>RPSG (FMCG) - Guiltfree Industries Limited</td>\n",
       "      <td>2 days ago</td>\n",
       "      <td>50 applicants</td>\n",
       "      <td>Kolkata, West Bengal, India</td>\n",
       "      <td>Full-time</td>\n",
       "    </tr>\n",
       "    <tr>\n",
       "      <th>1875</th>\n",
       "      <td>Data Analyst - Product Analytics</td>\n",
       "      <td>Thomson Reuters</td>\n",
       "      <td>3 days ago</td>\n",
       "      <td>119 applicants</td>\n",
       "      <td>Bengaluru, Karnataka, India</td>\n",
       "      <td>Full-time</td>\n",
       "    </tr>\n",
       "  </tbody>\n",
       "</table>\n",
       "<p>1853 rows × 6 columns</p>\n",
       "</div>"
      ],
      "text/plain": [
       "                                               Job_Name  \\\n",
       "0                 Opening for Java Full Stack Developer   \n",
       "1                 Senior Engineer Ã¢ÂÂ Backend (Java)   \n",
       "2                                 Sr. Software Engineer   \n",
       "3                             Full Stack Developer JAVA   \n",
       "4                         Senior Java Software Engineer   \n",
       "...                                                 ...   \n",
       "1851                                  Assistant Manager   \n",
       "1852                                     Finance Intern   \n",
       "1853                                      Sales Advisor   \n",
       "1854  RP Sanjiv Goenka Group - Senior Manager - Pack...   \n",
       "1875                   Data Analyst - Product Analytics   \n",
       "\n",
       "                                    Company_Name   Time_Posted  \\\n",
       "0                                    LTIMindtree   2 hours ago   \n",
       "1                                         PayPal   2 hours ago   \n",
       "2                                  Tech Mahindra  15 hours ago   \n",
       "3                                         Oracle  18 hours ago   \n",
       "4                                     idigilogic  18 hours ago   \n",
       "...                                          ...           ...   \n",
       "1851                             BNP Paribas CIB     1 day ago   \n",
       "1852                           The Muthoot Group     1 day ago   \n",
       "1853                                         H&M    2 days ago   \n",
       "1854  RPSG (FMCG) - Guiltfree Industries Limited    2 days ago   \n",
       "1875                             Thomson Reuters    3 days ago   \n",
       "\n",
       "          Applicants                          Location    Job_Type  \n",
       "0      55 applicants          Pune, Maharashtra, India   Full-time  \n",
       "1     114 applicants       Bengaluru, Karnataka, India   Full-time  \n",
       "2     183 applicants       Bengaluru, Karnataka, India    Contract  \n",
       "3      55 applicants       Bengaluru, Karnataka, India   Full-time  \n",
       "4      26 applicants  Bengaluru East, Karnataka, India   Full-time  \n",
       "...              ...                               ...         ...  \n",
       "1851  132 applicants        Mumbai, Maharashtra, India   Full-time  \n",
       "1852  157 applicants        Belagavi, Karnataka, India  Internship  \n",
       "1853   66 applicants     Indore, Madhya Pradesh, India   Full-time  \n",
       "1854   50 applicants       Kolkata, West Bengal, India   Full-time  \n",
       "1875  119 applicants       Bengaluru, Karnataka, India   Full-time  \n",
       "\n",
       "[1853 rows x 6 columns]"
      ]
     },
     "execution_count": 53,
     "metadata": {},
     "output_type": "execute_result"
    }
   ],
   "source": [
    "df2 = df1.drop_duplicates()\n",
    "df2"
   ]
  },
  {
   "cell_type": "markdown",
   "id": "a67e3cbf-6d03-43b4-83b4-9b32cae0451e",
   "metadata": {},
   "source": [
    "#### After removing the duplicated rows, there are 1853 rows are there."
   ]
  },
  {
   "cell_type": "code",
   "execution_count": 56,
   "id": "6c80c2e5-c254-4d75-87c5-a0b7fdf330c9",
   "metadata": {},
   "outputs": [
    {
     "data": {
      "text/html": [
       "<div>\n",
       "<style scoped>\n",
       "    .dataframe tbody tr th:only-of-type {\n",
       "        vertical-align: middle;\n",
       "    }\n",
       "\n",
       "    .dataframe tbody tr th {\n",
       "        vertical-align: top;\n",
       "    }\n",
       "\n",
       "    .dataframe thead th {\n",
       "        text-align: right;\n",
       "    }\n",
       "</style>\n",
       "<table border=\"1\" class=\"dataframe\">\n",
       "  <thead>\n",
       "    <tr style=\"text-align: right;\">\n",
       "      <th></th>\n",
       "      <th>Job_Name</th>\n",
       "      <th>Company_Name</th>\n",
       "      <th>Time_Posted</th>\n",
       "      <th>Applicants</th>\n",
       "      <th>Location</th>\n",
       "      <th>Job_Type</th>\n",
       "    </tr>\n",
       "  </thead>\n",
       "  <tbody>\n",
       "    <tr>\n",
       "      <th>0</th>\n",
       "      <td>Opening for Java Full Stack Developer</td>\n",
       "      <td>LTIMindtree</td>\n",
       "      <td>2 hours ago</td>\n",
       "      <td>55 applicants</td>\n",
       "      <td>Pune, Maharashtra, India</td>\n",
       "      <td>Full-time</td>\n",
       "    </tr>\n",
       "    <tr>\n",
       "      <th>1</th>\n",
       "      <td>Senior Engineer Ã¢ÂÂ Backend (Java)</td>\n",
       "      <td>PayPal</td>\n",
       "      <td>2 hours ago</td>\n",
       "      <td>114 applicants</td>\n",
       "      <td>Bengaluru, Karnataka, India</td>\n",
       "      <td>Full-time</td>\n",
       "    </tr>\n",
       "    <tr>\n",
       "      <th>2</th>\n",
       "      <td>Sr. Software Engineer</td>\n",
       "      <td>Tech Mahindra</td>\n",
       "      <td>15 hours ago</td>\n",
       "      <td>183 applicants</td>\n",
       "      <td>Bengaluru, Karnataka, India</td>\n",
       "      <td>Contract</td>\n",
       "    </tr>\n",
       "    <tr>\n",
       "      <th>3</th>\n",
       "      <td>Full Stack Developer JAVA</td>\n",
       "      <td>Oracle</td>\n",
       "      <td>18 hours ago</td>\n",
       "      <td>55 applicants</td>\n",
       "      <td>Bengaluru, Karnataka, India</td>\n",
       "      <td>Full-time</td>\n",
       "    </tr>\n",
       "    <tr>\n",
       "      <th>4</th>\n",
       "      <td>Senior Java Software Engineer</td>\n",
       "      <td>idigilogic</td>\n",
       "      <td>18 hours ago</td>\n",
       "      <td>26 applicants</td>\n",
       "      <td>Bengaluru East, Karnataka, India</td>\n",
       "      <td>Full-time</td>\n",
       "    </tr>\n",
       "    <tr>\n",
       "      <th>...</th>\n",
       "      <td>...</td>\n",
       "      <td>...</td>\n",
       "      <td>...</td>\n",
       "      <td>...</td>\n",
       "      <td>...</td>\n",
       "      <td>...</td>\n",
       "    </tr>\n",
       "    <tr>\n",
       "      <th>1851</th>\n",
       "      <td>Assistant Manager</td>\n",
       "      <td>BNP Paribas CIB</td>\n",
       "      <td>1 day ago</td>\n",
       "      <td>132 applicants</td>\n",
       "      <td>Mumbai, Maharashtra, India</td>\n",
       "      <td>Full-time</td>\n",
       "    </tr>\n",
       "    <tr>\n",
       "      <th>1852</th>\n",
       "      <td>Finance Intern</td>\n",
       "      <td>The Muthoot Group</td>\n",
       "      <td>1 day ago</td>\n",
       "      <td>157 applicants</td>\n",
       "      <td>Belagavi, Karnataka, India</td>\n",
       "      <td>Internship</td>\n",
       "    </tr>\n",
       "    <tr>\n",
       "      <th>1853</th>\n",
       "      <td>Sales Advisor</td>\n",
       "      <td>H&amp;M</td>\n",
       "      <td>2 days ago</td>\n",
       "      <td>66 applicants</td>\n",
       "      <td>Indore, Madhya Pradesh, India</td>\n",
       "      <td>Full-time</td>\n",
       "    </tr>\n",
       "    <tr>\n",
       "      <th>1854</th>\n",
       "      <td>RP Sanjiv Goenka Group - Senior Manager - Pack...</td>\n",
       "      <td>RPSG (FMCG) - Guiltfree Industries Limited</td>\n",
       "      <td>2 days ago</td>\n",
       "      <td>50 applicants</td>\n",
       "      <td>Kolkata, West Bengal, India</td>\n",
       "      <td>Full-time</td>\n",
       "    </tr>\n",
       "    <tr>\n",
       "      <th>1875</th>\n",
       "      <td>Data Analyst - Product Analytics</td>\n",
       "      <td>Thomson Reuters</td>\n",
       "      <td>3 days ago</td>\n",
       "      <td>119 applicants</td>\n",
       "      <td>Bengaluru, Karnataka, India</td>\n",
       "      <td>Full-time</td>\n",
       "    </tr>\n",
       "  </tbody>\n",
       "</table>\n",
       "<p>1805 rows × 6 columns</p>\n",
       "</div>"
      ],
      "text/plain": [
       "                                               Job_Name  \\\n",
       "0                 Opening for Java Full Stack Developer   \n",
       "1                 Senior Engineer Ã¢ÂÂ Backend (Java)   \n",
       "2                                 Sr. Software Engineer   \n",
       "3                             Full Stack Developer JAVA   \n",
       "4                         Senior Java Software Engineer   \n",
       "...                                                 ...   \n",
       "1851                                  Assistant Manager   \n",
       "1852                                     Finance Intern   \n",
       "1853                                      Sales Advisor   \n",
       "1854  RP Sanjiv Goenka Group - Senior Manager - Pack...   \n",
       "1875                   Data Analyst - Product Analytics   \n",
       "\n",
       "                                    Company_Name   Time_Posted  \\\n",
       "0                                    LTIMindtree   2 hours ago   \n",
       "1                                         PayPal   2 hours ago   \n",
       "2                                  Tech Mahindra  15 hours ago   \n",
       "3                                         Oracle  18 hours ago   \n",
       "4                                     idigilogic  18 hours ago   \n",
       "...                                          ...           ...   \n",
       "1851                             BNP Paribas CIB     1 day ago   \n",
       "1852                           The Muthoot Group     1 day ago   \n",
       "1853                                         H&M    2 days ago   \n",
       "1854  RPSG (FMCG) - Guiltfree Industries Limited    2 days ago   \n",
       "1875                             Thomson Reuters    3 days ago   \n",
       "\n",
       "          Applicants                          Location    Job_Type  \n",
       "0      55 applicants          Pune, Maharashtra, India   Full-time  \n",
       "1     114 applicants       Bengaluru, Karnataka, India   Full-time  \n",
       "2     183 applicants       Bengaluru, Karnataka, India    Contract  \n",
       "3      55 applicants       Bengaluru, Karnataka, India   Full-time  \n",
       "4      26 applicants  Bengaluru East, Karnataka, India   Full-time  \n",
       "...              ...                               ...         ...  \n",
       "1851  132 applicants        Mumbai, Maharashtra, India   Full-time  \n",
       "1852  157 applicants        Belagavi, Karnataka, India  Internship  \n",
       "1853   66 applicants     Indore, Madhya Pradesh, India   Full-time  \n",
       "1854   50 applicants       Kolkata, West Bengal, India   Full-time  \n",
       "1875  119 applicants       Bengaluru, Karnataka, India   Full-time  \n",
       "\n",
       "[1805 rows x 6 columns]"
      ]
     },
     "execution_count": 56,
     "metadata": {},
     "output_type": "execute_result"
    }
   ],
   "source": [
    "df2 = df2[df2['Location'] != 'India']\n",
    "df2"
   ]
  },
  {
   "cell_type": "markdown",
   "id": "a661292a-d800-4256-bbae-e877b276817e",
   "metadata": {},
   "source": [
    "### **Data Visualization**"
   ]
  },
  {
   "cell_type": "code",
   "execution_count": 59,
   "id": "92aaea23-d4a7-4de1-a364-ea91a41211c1",
   "metadata": {},
   "outputs": [
    {
     "data": {
      "text/plain": [
       "Company_Name\n",
       "Tata Consultancy Services         56\n",
       "Wipro                             55\n",
       "Accenture in India                42\n",
       "Capgemini                         41\n",
       "Cognizant                         29\n",
       "                                  ..\n",
       "Sato Inc                           1\n",
       "GE Appliances, a Haier company     1\n",
       "LearningMate                       1\n",
       "Toolyt                             1\n",
       "Thomson Reuters                    1\n",
       "Name: count, Length: 756, dtype: int64"
      ]
     },
     "execution_count": 59,
     "metadata": {},
     "output_type": "execute_result"
    }
   ],
   "source": [
    "company_count = df2['Company_Name'].value_counts()\n",
    "company_count"
   ]
  },
  {
   "cell_type": "code",
   "execution_count": 61,
   "id": "76818125-4ec7-43d5-be67-80e2d4c4671d",
   "metadata": {},
   "outputs": [
    {
     "data": {
      "text/plain": [
       "(756,)"
      ]
     },
     "execution_count": 61,
     "metadata": {},
     "output_type": "execute_result"
    }
   ],
   "source": [
    "company_count.shape"
   ]
  },
  {
   "cell_type": "code",
   "execution_count": 63,
   "id": "d9709223-fc7b-4d26-ab2f-79ecc6253149",
   "metadata": {},
   "outputs": [
    {
     "data": {
      "image/png": "[encoded data removed]",
      "text/plain": [
       "<Figure size 1000x600 with 1 Axes>"
      ]
     },
     "metadata": {},
     "output_type": "display_data"
    }
   ],
   "source": [
    "plt.figure(figsize=(10,6))\n",
    "sns.countplot(y = df2['Company_Name'],order = df2['Company_Name'].value_counts().index[:10],palette = 'coolwarm')\n",
    "plt.title(\"Top 10 Companies\")\n",
    "plt.xlabel(\"Count\")\n",
    "plt.ylabel(\"Company_Name\")\n",
    "plt.show()"
   ]
  },
  {
   "cell_type": "markdown",
   "id": "da1f9cdb-af86-458d-85e5-9d11c2de36c4",
   "metadata": {},
   "source": [
    "#### There are \"Tata Consultancy Services\" is the largest company among the Top 10 companies"
   ]
  },
  {
   "cell_type": "code",
   "execution_count": 66,
   "id": "d05b7438-d32a-430d-bf92-bd557af7db63",
   "metadata": {},
   "outputs": [
    {
     "data": {
      "text/plain": [
       "Job_Name\n",
       "Data Analyst                                       60\n",
       "Data Analyst Intern                                23\n",
       "Java Developer                                     14\n",
       "Senior Data Analyst                                13\n",
       "Python Developer                                   12\n",
       "                                                   ..\n",
       "Software Developer                                  1\n",
       "Social Media Marketing Manager in Mumbai            1\n",
       "Civil Site Engineer Freshers                        1\n",
       "Senior Business Develeopment Manager - Lonavala     1\n",
       "Data Analyst - Product Analytics                    1\n",
       "Name: count, Length: 1177, dtype: int64"
      ]
     },
     "execution_count": 66,
     "metadata": {},
     "output_type": "execute_result"
    }
   ],
   "source": [
    "jobname_count = df2['Job_Name'].value_counts()\n",
    "jobname_count"
   ]
  },
  {
   "cell_type": "code",
   "execution_count": 68,
   "id": "531be3b2-2f3b-4dc3-a60d-6d89f8414d97",
   "metadata": {},
   "outputs": [
    {
     "data": {
      "text/plain": [
       "(1177,)"
      ]
     },
     "execution_count": 68,
     "metadata": {},
     "output_type": "execute_result"
    }
   ],
   "source": [
    "jobname_count.shape"
   ]
  },
  {
   "cell_type": "code",
   "execution_count": 70,
   "id": "9b8bdcdb-5fd0-4f59-9e40-82671a129e97",
   "metadata": {},
   "outputs": [
    {
     "data": {
      "image/png": "[encoded data removed]",
      "text/plain": [
       "<Figure size 1000x600 with 1 Axes>"
      ]
     },
     "metadata": {},
     "output_type": "display_data"
    }
   ],
   "source": [
    "plt.figure(figsize=(10,6))\n",
    "sns.countplot(y = df2['Job_Name'],order = df2['Job_Name'].value_counts().index[:10],palette = 'Set2')\n",
    "plt.title(\"Top 10 Jobs\")\n",
    "plt.xlabel(\"Count\")\n",
    "plt.ylabel(\"Job_Name\")\n",
    "plt.show()"
   ]
  },
  {
   "cell_type": "markdown",
   "id": "e393820e-7fcf-4bae-b85d-8a5d7b35bc26",
   "metadata": {},
   "source": [
    "#### There are \"Data Analyst\" is the highest jobs among the Top 10 Jobs"
   ]
  },
  {
   "cell_type": "code",
   "execution_count": 73,
   "id": "925909cb-2c57-458d-a152-b2208805f135",
   "metadata": {},
   "outputs": [
    {
     "data": {
      "text/plain": [
       "Location\n",
       "Bengaluru, Karnataka, India                  461\n",
       "Hyderabad, Telangana, India                  172\n",
       "Pune, Maharashtra, India                     145\n",
       "Mumbai, Maharashtra, India                   135\n",
       "Chennai, Tamil Nadu, India                   113\n",
       "                                            ... \n",
       "Mysore, Karnataka, India                       1\n",
       "Haryana, India                                 1\n",
       "Gautam Buddha Nagar, Uttar Pradesh, India      1\n",
       "Hanamakonda, Telangana, India                  1\n",
       "Belagavi, Karnataka, India                     1\n",
       "Name: count, Length: 139, dtype: int64"
      ]
     },
     "execution_count": 73,
     "metadata": {},
     "output_type": "execute_result"
    }
   ],
   "source": [
    "loc_count = df2['Location'].value_counts()\n",
    "loc_count"
   ]
  },
  {
   "cell_type": "code",
   "execution_count": 75,
   "id": "29e11174-58a5-4f95-9d67-31030303b3f0",
   "metadata": {},
   "outputs": [
    {
     "data": {
      "text/plain": [
       "(139,)"
      ]
     },
     "execution_count": 75,
     "metadata": {},
     "output_type": "execute_result"
    }
   ],
   "source": [
    "loc_count.shape"
   ]
  },
  {
   "cell_type": "code",
   "execution_count": 77,
   "id": "4c004271-4687-4fed-a7a2-b92e1b83b67c",
   "metadata": {},
   "outputs": [
    {
     "data": {
      "image/png": "[encoded data removed]",
      "text/plain": [
       "<Figure size 1000x600 with 1 Axes>"
      ]
     },
     "metadata": {},
     "output_type": "display_data"
    }
   ],
   "source": [
    "plt.figure(figsize=(10,6))\n",
    "sns.countplot(y = df2['Location'],order = df2['Location'].value_counts().index[:10],palette = 'tab10')\n",
    "plt.title(\"Top 10 Job Locations\")\n",
    "plt.xlabel(\"Count\")\n",
    "plt.ylabel(\"Location\")\n",
    "plt.show()"
   ]
  },
  {
   "cell_type": "markdown",
   "id": "7345b592-c565-4674-84e4-90c48b6fa5d8",
   "metadata": {},
   "source": [
    "#### There are \"Bengaluru, Karnataka, India\" location has more jobs among the Top 10 job locations"
   ]
  },
  {
   "cell_type": "code",
   "execution_count": 86,
   "id": "a9d8f9fc-7208-429f-936d-853e095753e3",
   "metadata": {},
   "outputs": [
    {
     "data": {
      "text/plain": [
       "Job_Type\n",
       "Full-time     1376\n",
       "Part-time      221\n",
       "Contract       105\n",
       "Internship     103\n",
       "Name: count, dtype: int64"
      ]
     },
     "execution_count": 86,
     "metadata": {},
     "output_type": "execute_result"
    }
   ],
   "source": [
    "jobtype_count = df2['Job_Type'].value_counts()\n",
    "jobtype_count"
   ]
  },
  {
   "cell_type": "code",
   "execution_count": 88,
   "id": "722631bc-9210-4a8d-9554-d7da64c2376b",
   "metadata": {},
   "outputs": [
    {
     "data": {
      "text/plain": [
       "(4,)"
      ]
     },
     "execution_count": 88,
     "metadata": {},
     "output_type": "execute_result"
    }
   ],
   "source": [
    "jobtype_count.shape"
   ]
  },
  {
   "cell_type": "code",
   "execution_count": 90,
   "id": "4d9df917-3559-45c9-b2fc-17ffe9981d54",
   "metadata": {},
   "outputs": [
    {
     "data": {
      "image/png": "[encoded data removed]",
      "text/plain": [
       "<Figure size 1000x1000 with 1 Axes>"
      ]
     },
     "metadata": {},
     "output_type": "display_data"
    }
   ],
   "source": [
    "plt.figure(figsize=(10, 10))\n",
    "df2['Job_Type'].value_counts().plot.pie(autopct='%1.1f%%', startangle=90, cmap='Set2', legend=True)\n",
    "plt.title(\"Job Type Distribution\")\n",
    "plt.ylabel('')  \n",
    "plt.show()"
   ]
  },
  {
   "cell_type": "markdown",
   "id": "5b3b5863-2e3f-4131-9c0b-3ee821967345",
   "metadata": {},
   "source": [
    "#### There are most \"Full-time\" jobs in this Job Type"
   ]
  },
  {
   "cell_type": "code",
   "execution_count": 93,
   "id": "21f5971c-65d2-4a61-b09d-6c7f8109791f",
   "metadata": {},
   "outputs": [
    {
     "data": {
      "text/html": [
       "<div>\n",
       "<style scoped>\n",
       "    .dataframe tbody tr th:only-of-type {\n",
       "        vertical-align: middle;\n",
       "    }\n",
       "\n",
       "    .dataframe tbody tr th {\n",
       "        vertical-align: top;\n",
       "    }\n",
       "\n",
       "    .dataframe thead th {\n",
       "        text-align: right;\n",
       "    }\n",
       "</style>\n",
       "<table border=\"1\" class=\"dataframe\">\n",
       "  <thead>\n",
       "    <tr style=\"text-align: right;\">\n",
       "      <th></th>\n",
       "      <th>Job_Name</th>\n",
       "      <th>Company_Name</th>\n",
       "      <th>Time_Posted</th>\n",
       "      <th>Applicants</th>\n",
       "      <th>Location</th>\n",
       "      <th>Job_Type</th>\n",
       "    </tr>\n",
       "  </thead>\n",
       "  <tbody>\n",
       "    <tr>\n",
       "      <th>0</th>\n",
       "      <td>Opening for Java Full Stack Developer</td>\n",
       "      <td>LTIMindtree</td>\n",
       "      <td>2 hours ago</td>\n",
       "      <td>55 applicants</td>\n",
       "      <td>Pune, Maharashtra, India</td>\n",
       "      <td>Full-time</td>\n",
       "    </tr>\n",
       "    <tr>\n",
       "      <th>1</th>\n",
       "      <td>Senior Engineer Ã¢ÂÂ Backend (Java)</td>\n",
       "      <td>PayPal</td>\n",
       "      <td>2 hours ago</td>\n",
       "      <td>114 applicants</td>\n",
       "      <td>Bengaluru, Karnataka, India</td>\n",
       "      <td>Full-time</td>\n",
       "    </tr>\n",
       "    <tr>\n",
       "      <th>2</th>\n",
       "      <td>Sr. Software Engineer</td>\n",
       "      <td>Tech Mahindra</td>\n",
       "      <td>15 hours ago</td>\n",
       "      <td>183 applicants</td>\n",
       "      <td>Bengaluru, Karnataka, India</td>\n",
       "      <td>Contract</td>\n",
       "    </tr>\n",
       "    <tr>\n",
       "      <th>3</th>\n",
       "      <td>Full Stack Developer JAVA</td>\n",
       "      <td>Oracle</td>\n",
       "      <td>18 hours ago</td>\n",
       "      <td>55 applicants</td>\n",
       "      <td>Bengaluru, Karnataka, India</td>\n",
       "      <td>Full-time</td>\n",
       "    </tr>\n",
       "    <tr>\n",
       "      <th>4</th>\n",
       "      <td>Senior Java Software Engineer</td>\n",
       "      <td>idigilogic</td>\n",
       "      <td>18 hours ago</td>\n",
       "      <td>26 applicants</td>\n",
       "      <td>Bengaluru East, Karnataka, India</td>\n",
       "      <td>Full-time</td>\n",
       "    </tr>\n",
       "  </tbody>\n",
       "</table>\n",
       "</div>"
      ],
      "text/plain": [
       "                                Job_Name   Company_Name   Time_Posted  \\\n",
       "0  Opening for Java Full Stack Developer    LTIMindtree   2 hours ago   \n",
       "1  Senior Engineer Ã¢ÂÂ Backend (Java)         PayPal   2 hours ago   \n",
       "2                  Sr. Software Engineer  Tech Mahindra  15 hours ago   \n",
       "3              Full Stack Developer JAVA         Oracle  18 hours ago   \n",
       "4          Senior Java Software Engineer     idigilogic  18 hours ago   \n",
       "\n",
       "       Applicants                          Location   Job_Type  \n",
       "0   55 applicants          Pune, Maharashtra, India  Full-time  \n",
       "1  114 applicants       Bengaluru, Karnataka, India  Full-time  \n",
       "2  183 applicants       Bengaluru, Karnataka, India   Contract  \n",
       "3   55 applicants       Bengaluru, Karnataka, India  Full-time  \n",
       "4   26 applicants  Bengaluru East, Karnataka, India  Full-time  "
      ]
     },
     "execution_count": 93,
     "metadata": {},
     "output_type": "execute_result"
    }
   ],
   "source": [
    "df3=df2.copy()\n",
    "df3.head()"
   ]
  },
  {
   "cell_type": "markdown",
   "id": "88dae196-ba5c-414c-b041-001688d3877e",
   "metadata": {},
   "source": [
    "### **Data Preprocessing**"
   ]
  },
  {
   "cell_type": "code",
   "execution_count": 96,
   "id": "50e2c9e8-4455-44b3-a25e-4b32a4b5b74c",
   "metadata": {},
   "outputs": [
    {
     "data": {
      "text/html": [
       "<div>\n",
       "<style scoped>\n",
       "    .dataframe tbody tr th:only-of-type {\n",
       "        vertical-align: middle;\n",
       "    }\n",
       "\n",
       "    .dataframe tbody tr th {\n",
       "        vertical-align: top;\n",
       "    }\n",
       "\n",
       "    .dataframe thead th {\n",
       "        text-align: right;\n",
       "    }\n",
       "</style>\n",
       "<table border=\"1\" class=\"dataframe\">\n",
       "  <thead>\n",
       "    <tr style=\"text-align: right;\">\n",
       "      <th></th>\n",
       "      <th>Job_Name</th>\n",
       "      <th>Company_Name</th>\n",
       "      <th>Time_Posted</th>\n",
       "      <th>Applicants</th>\n",
       "      <th>Location</th>\n",
       "      <th>Job_Type</th>\n",
       "    </tr>\n",
       "  </thead>\n",
       "  <tbody>\n",
       "    <tr>\n",
       "      <th>0</th>\n",
       "      <td>Opening for Java Full Stack Developer</td>\n",
       "      <td>LTIMindtree</td>\n",
       "      <td>2 hours ago</td>\n",
       "      <td>55 applicants</td>\n",
       "      <td>Pune, Maharashtra, India</td>\n",
       "      <td>Full-time</td>\n",
       "    </tr>\n",
       "    <tr>\n",
       "      <th>1</th>\n",
       "      <td>Senior Engineer Ã¢ÂÂ Backend (Java)</td>\n",
       "      <td>PayPal</td>\n",
       "      <td>2 hours ago</td>\n",
       "      <td>114 applicants</td>\n",
       "      <td>Bengaluru, Karnataka, India</td>\n",
       "      <td>Full-time</td>\n",
       "    </tr>\n",
       "    <tr>\n",
       "      <th>2</th>\n",
       "      <td>Sr. Software Engineer</td>\n",
       "      <td>Tech Mahindra</td>\n",
       "      <td>15 hours ago</td>\n",
       "      <td>183 applicants</td>\n",
       "      <td>Bengaluru, Karnataka, India</td>\n",
       "      <td>Contract</td>\n",
       "    </tr>\n",
       "    <tr>\n",
       "      <th>3</th>\n",
       "      <td>Full Stack Developer JAVA</td>\n",
       "      <td>Oracle</td>\n",
       "      <td>18 hours ago</td>\n",
       "      <td>55 applicants</td>\n",
       "      <td>Bengaluru, Karnataka, India</td>\n",
       "      <td>Full-time</td>\n",
       "    </tr>\n",
       "    <tr>\n",
       "      <th>4</th>\n",
       "      <td>Senior Java Software Engineer</td>\n",
       "      <td>idigilogic</td>\n",
       "      <td>18 hours ago</td>\n",
       "      <td>26 applicants</td>\n",
       "      <td>Bengaluru East, Karnataka, India</td>\n",
       "      <td>Full-time</td>\n",
       "    </tr>\n",
       "  </tbody>\n",
       "</table>\n",
       "</div>"
      ],
      "text/plain": [
       "                                Job_Name   Company_Name   Time_Posted  \\\n",
       "0  Opening for Java Full Stack Developer    LTIMindtree   2 hours ago   \n",
       "1  Senior Engineer Ã¢ÂÂ Backend (Java)         PayPal   2 hours ago   \n",
       "2                  Sr. Software Engineer  Tech Mahindra  15 hours ago   \n",
       "3              Full Stack Developer JAVA         Oracle  18 hours ago   \n",
       "4          Senior Java Software Engineer     idigilogic  18 hours ago   \n",
       "\n",
       "       Applicants                          Location   Job_Type  \n",
       "0   55 applicants          Pune, Maharashtra, India  Full-time  \n",
       "1  114 applicants       Bengaluru, Karnataka, India  Full-time  \n",
       "2  183 applicants       Bengaluru, Karnataka, India   Contract  \n",
       "3   55 applicants       Bengaluru, Karnataka, India  Full-time  \n",
       "4   26 applicants  Bengaluru East, Karnataka, India  Full-time  "
      ]
     },
     "execution_count": 96,
     "metadata": {},
     "output_type": "execute_result"
    }
   ],
   "source": [
    "df4 = df3.copy()\n",
    "df4.head()"
   ]
  },
  {
   "cell_type": "code",
   "execution_count": 98,
   "id": "18536e49-78b7-4704-90ea-a9da123af410",
   "metadata": {},
   "outputs": [],
   "source": [
    "df4['Applicants'] = df4['Applicants'].astype(str).str.extract(r'(\\d+)')[0].astype(float)"
   ]
  },
  {
   "cell_type": "code",
   "execution_count": 100,
   "id": "a2775a17-6465-40e9-bed3-67b7c09fc284",
   "metadata": {},
   "outputs": [],
   "source": [
    "df4['Time_Posted'] = df4['Time_Posted'].str.extract(r'(\\d+)')[0].astype(float)\n",
    "df4.loc[df4[\"Time_Posted\"].astype(str).str.contains(\"day\", na=False), \"Time_Posted\"] *= 24"
   ]
  },
  {
   "cell_type": "code",
   "execution_count": 102,
   "id": "6a8fa831-c1a6-42d6-a52b-693197356a61",
   "metadata": {},
   "outputs": [
    {
     "data": {
      "text/html": [
       "<div>\n",
       "<style scoped>\n",
       "    .dataframe tbody tr th:only-of-type {\n",
       "        vertical-align: middle;\n",
       "    }\n",
       "\n",
       "    .dataframe tbody tr th {\n",
       "        vertical-align: top;\n",
       "    }\n",
       "\n",
       "    .dataframe thead th {\n",
       "        text-align: right;\n",
       "    }\n",
       "</style>\n",
       "<table border=\"1\" class=\"dataframe\">\n",
       "  <thead>\n",
       "    <tr style=\"text-align: right;\">\n",
       "      <th></th>\n",
       "      <th>Job_Name</th>\n",
       "      <th>Company_Name</th>\n",
       "      <th>Time_Posted</th>\n",
       "      <th>Applicants</th>\n",
       "      <th>Location</th>\n",
       "      <th>Job_Type</th>\n",
       "    </tr>\n",
       "  </thead>\n",
       "  <tbody>\n",
       "    <tr>\n",
       "      <th>0</th>\n",
       "      <td>Opening for Java Full Stack Developer</td>\n",
       "      <td>LTIMindtree</td>\n",
       "      <td>2.0</td>\n",
       "      <td>55.0</td>\n",
       "      <td>Pune, Maharashtra, India</td>\n",
       "      <td>Full-time</td>\n",
       "    </tr>\n",
       "    <tr>\n",
       "      <th>1</th>\n",
       "      <td>Senior Engineer Ã¢ÂÂ Backend (Java)</td>\n",
       "      <td>PayPal</td>\n",
       "      <td>2.0</td>\n",
       "      <td>114.0</td>\n",
       "      <td>Bengaluru, Karnataka, India</td>\n",
       "      <td>Full-time</td>\n",
       "    </tr>\n",
       "    <tr>\n",
       "      <th>2</th>\n",
       "      <td>Sr. Software Engineer</td>\n",
       "      <td>Tech Mahindra</td>\n",
       "      <td>15.0</td>\n",
       "      <td>183.0</td>\n",
       "      <td>Bengaluru, Karnataka, India</td>\n",
       "      <td>Contract</td>\n",
       "    </tr>\n",
       "    <tr>\n",
       "      <th>3</th>\n",
       "      <td>Full Stack Developer JAVA</td>\n",
       "      <td>Oracle</td>\n",
       "      <td>18.0</td>\n",
       "      <td>55.0</td>\n",
       "      <td>Bengaluru, Karnataka, India</td>\n",
       "      <td>Full-time</td>\n",
       "    </tr>\n",
       "    <tr>\n",
       "      <th>4</th>\n",
       "      <td>Senior Java Software Engineer</td>\n",
       "      <td>idigilogic</td>\n",
       "      <td>18.0</td>\n",
       "      <td>26.0</td>\n",
       "      <td>Bengaluru East, Karnataka, India</td>\n",
       "      <td>Full-time</td>\n",
       "    </tr>\n",
       "  </tbody>\n",
       "</table>\n",
       "</div>"
      ],
      "text/plain": [
       "                                Job_Name   Company_Name  Time_Posted  \\\n",
       "0  Opening for Java Full Stack Developer    LTIMindtree          2.0   \n",
       "1  Senior Engineer Ã¢ÂÂ Backend (Java)         PayPal          2.0   \n",
       "2                  Sr. Software Engineer  Tech Mahindra         15.0   \n",
       "3              Full Stack Developer JAVA         Oracle         18.0   \n",
       "4          Senior Java Software Engineer     idigilogic         18.0   \n",
       "\n",
       "   Applicants                          Location   Job_Type  \n",
       "0        55.0          Pune, Maharashtra, India  Full-time  \n",
       "1       114.0       Bengaluru, Karnataka, India  Full-time  \n",
       "2       183.0       Bengaluru, Karnataka, India   Contract  \n",
       "3        55.0       Bengaluru, Karnataka, India  Full-time  \n",
       "4        26.0  Bengaluru East, Karnataka, India  Full-time  "
      ]
     },
     "execution_count": 102,
     "metadata": {},
     "output_type": "execute_result"
    }
   ],
   "source": [
    "df4.head()"
   ]
  },
  {
   "cell_type": "code",
   "execution_count": 104,
   "id": "ddc4b240-c7f6-477c-a5fb-51d81843de46",
   "metadata": {},
   "outputs": [
    {
     "name": "stdout",
     "output_type": "stream",
     "text": [
      "<class 'pandas.core.frame.DataFrame'>\n",
      "Index: 1805 entries, 0 to 1875\n",
      "Data columns (total 6 columns):\n",
      " #   Column        Non-Null Count  Dtype  \n",
      "---  ------        --------------  -----  \n",
      " 0   Job_Name      1805 non-null   object \n",
      " 1   Company_Name  1805 non-null   object \n",
      " 2   Time_Posted   1805 non-null   float64\n",
      " 3   Applicants    1805 non-null   float64\n",
      " 4   Location      1805 non-null   object \n",
      " 5   Job_Type      1805 non-null   object \n",
      "dtypes: float64(2), object(4)\n",
      "memory usage: 98.7+ KB\n"
     ]
    }
   ],
   "source": [
    "df4.info()"
   ]
  },
  {
   "cell_type": "markdown",
   "id": "fff7c158-f0b9-42c0-8dc8-c31fc127c508",
   "metadata": {},
   "source": [
    "### **Feature Scaling & Encoding**"
   ]
  },
  {
   "cell_type": "code",
   "execution_count": 107,
   "id": "5efff3fa-2cca-4945-9386-4dceb8f48617",
   "metadata": {},
   "outputs": [],
   "source": [
    "from sklearn.preprocessing import StandardScaler, OrdinalEncoder"
   ]
  },
  {
   "cell_type": "code",
   "execution_count": 109,
   "id": "c9c9e0ae-d4fc-475a-b71b-b854784229ed",
   "metadata": {},
   "outputs": [],
   "source": [
    "cat_features = ['Job_Name', 'Company_Name', 'Location', 'Job_Type']\n",
    "num_features = ['Time_Posted', 'Applicants']"
   ]
  },
  {
   "cell_type": "code",
   "execution_count": 111,
   "id": "48ad57d4-8136-4fc3-b9ff-3038fa55124b",
   "metadata": {},
   "outputs": [],
   "source": [
    "encoder = OrdinalEncoder()\n",
    "df4[cat_features] = encoder.fit_transform(df4[cat_features])"
   ]
  },
  {
   "cell_type": "markdown",
   "id": "ceb89554-e892-4960-93fa-427b41d8fc29",
   "metadata": {},
   "source": [
    "### **Train-Test Split and Scaling Numerical Features**"
   ]
  },
  {
   "cell_type": "code",
   "execution_count": 114,
   "id": "0b2b4eee-fab6-4799-be7c-6acb0e8f3ae3",
   "metadata": {},
   "outputs": [],
   "source": [
    "from sklearn.model_selection import train_test_split, GridSearchCV"
   ]
  },
  {
   "cell_type": "code",
   "execution_count": 116,
   "id": "fe20c24f-0aea-440e-8a4b-dc343c32b260",
   "metadata": {},
   "outputs": [],
   "source": [
    "X = df4[cat_features + num_features]\n",
    "y = df4['Applicants']  # Target variable\n",
    "X_train, X_test, y_train, y_test = train_test_split(X, y, test_size=0.2, random_state=42)"
   ]
  },
  {
   "cell_type": "code",
   "execution_count": 118,
   "id": "53d491ef-fa62-44e3-b495-e637d39f2c15",
   "metadata": {},
   "outputs": [],
   "source": [
    "scaler = StandardScaler()\n",
    "X_train[num_features] = scaler.fit_transform(X_train[num_features])\n",
    "X_test[num_features] = scaler.transform(X_test[num_features])"
   ]
  },
  {
   "cell_type": "markdown",
   "id": "e88555a6-f036-4e15-9177-e59349894231",
   "metadata": {},
   "source": [
    "### **Hyperparameter Tuning and Model Prediction**"
   ]
  },
  {
   "cell_type": "code",
   "execution_count": 121,
   "id": "2e8c1616-16ab-4e38-82d0-bc89b09aeb0d",
   "metadata": {},
   "outputs": [],
   "source": [
    "from sklearn.linear_model import LinearRegression\n",
    "from sklearn.ensemble import RandomForestRegressor, GradientBoostingRegressor"
   ]
  },
  {
   "cell_type": "markdown",
   "id": "f15df0a1-e79e-4981-883e-d77c7fbb5a34",
   "metadata": {},
   "source": [
    "### Linear Regression"
   ]
  },
  {
   "cell_type": "code",
   "execution_count": 124,
   "id": "8b105e50-2844-4608-aacc-98fc5b0dfb87",
   "metadata": {},
   "outputs": [],
   "source": [
    "lr = LinearRegression()\n",
    "param_grid_lr = {\n",
    "    'fit_intercept': [True, False],\n",
    "    'copy_X': [True, False]\n",
    "}"
   ]
  },
  {
   "cell_type": "code",
   "execution_count": 126,
   "id": "13fd283f-5f75-4087-81f0-29bd8259ec9d",
   "metadata": {},
   "outputs": [
    {
     "data": {
      "text/html": [
       "<style>#sk-container-id-1 {color: black;}#sk-container-id-1 pre{padding: 0;}#sk-container-id-1 div.sk-toggleable {background-color: white;}#sk-container-id-1 label.sk-toggleable__label {cursor: pointer;display: block;width: 100%;margin-bottom: 0;padding: 0.3em;box-sizing: border-box;text-align: center;}#sk-container-id-1 label.sk-toggleable__label-arrow:before {content: \"▸\";float: left;margin-right: 0.25em;color: #696969;}#sk-container-id-1 label.sk-toggleable__label-arrow:hover:before {color: black;}#sk-container-id-1 div.sk-estimator:hover label.sk-toggleable__label-arrow:before {color: black;}#sk-container-id-1 div.sk-toggleable__content {max-height: 0;max-width: 0;overflow: hidden;text-align: left;background-color: #f0f8ff;}#sk-container-id-1 div.sk-toggleable__content pre {margin: 0.2em;color: black;border-radius: 0.25em;background-color: #f0f8ff;}#sk-container-id-1 input.sk-toggleable__control:checked~div.sk-toggleable__content {max-height: 200px;max-width: 100%;overflow: auto;}#sk-container-id-1 input.sk-toggleable__control:checked~label.sk-toggleable__label-arrow:before {content: \"▾\";}#sk-container-id-1 div.sk-estimator input.sk-toggleable__control:checked~label.sk-toggleable__label {background-color: #d4ebff;}#sk-container-id-1 div.sk-label input.sk-toggleable__control:checked~label.sk-toggleable__label {background-color: #d4ebff;}#sk-container-id-1 input.sk-hidden--visually {border: 0;clip: rect(1px 1px 1px 1px);clip: rect(1px, 1px, 1px, 1px);height: 1px;margin: -1px;overflow: hidden;padding: 0;position: absolute;width: 1px;}#sk-container-id-1 div.sk-estimator {font-family: monospace;background-color: #f0f8ff;border: 1px dotted black;border-radius: 0.25em;box-sizing: border-box;margin-bottom: 0.5em;}#sk-container-id-1 div.sk-estimator:hover {background-color: #d4ebff;}#sk-container-id-1 div.sk-parallel-item::after {content: \"\";width: 100%;border-bottom: 1px solid gray;flex-grow: 1;}#sk-container-id-1 div.sk-label:hover label.sk-toggleable__label {background-color: #d4ebff;}#sk-container-id-1 div.sk-serial::before {content: \"\";position: absolute;border-left: 1px solid gray;box-sizing: border-box;top: 0;bottom: 0;left: 50%;z-index: 0;}#sk-container-id-1 div.sk-serial {display: flex;flex-direction: column;align-items: center;background-color: white;padding-right: 0.2em;padding-left: 0.2em;position: relative;}#sk-container-id-1 div.sk-item {position: relative;z-index: 1;}#sk-container-id-1 div.sk-parallel {display: flex;align-items: stretch;justify-content: center;background-color: white;position: relative;}#sk-container-id-1 div.sk-item::before, #sk-container-id-1 div.sk-parallel-item::before {content: \"\";position: absolute;border-left: 1px solid gray;box-sizing: border-box;top: 0;bottom: 0;left: 50%;z-index: -1;}#sk-container-id-1 div.sk-parallel-item {display: flex;flex-direction: column;z-index: 1;position: relative;background-color: white;}#sk-container-id-1 div.sk-parallel-item:first-child::after {align-self: flex-end;width: 50%;}#sk-container-id-1 div.sk-parallel-item:last-child::after {align-self: flex-start;width: 50%;}#sk-container-id-1 div.sk-parallel-item:only-child::after {width: 0;}#sk-container-id-1 div.sk-dashed-wrapped {border: 1px dashed gray;margin: 0 0.4em 0.5em 0.4em;box-sizing: border-box;padding-bottom: 0.4em;background-color: white;}#sk-container-id-1 div.sk-label label {font-family: monospace;font-weight: bold;display: inline-block;line-height: 1.2em;}#sk-container-id-1 div.sk-label-container {text-align: center;}#sk-container-id-1 div.sk-container {/* jupyter's `normalize.less` sets `[hidden] { display: none; }` but bootstrap.min.css set `[hidden] { display: none !important; }` so we also need the `!important` here to be able to override the default hidden behavior on the sphinx rendered scikit-learn.org. See: https://github.com/scikit-learn/scikit-learn/issues/21755 */display: inline-block !important;position: relative;}#sk-container-id-1 div.sk-text-repr-fallback {display: none;}</style><div id=\"sk-container-id-1\" class=\"sk-top-container\"><div class=\"sk-text-repr-fallback\"><pre>GridSearchCV(cv=5, estimator=LinearRegression(), n_jobs=-1,\n",
       "             param_grid={&#x27;copy_X&#x27;: [True, False],\n",
       "                         &#x27;fit_intercept&#x27;: [True, False]},\n",
       "             scoring=&#x27;r2&#x27;)</pre><b>In a Jupyter environment, please rerun this cell to show the HTML representation or trust the notebook. <br />On GitHub, the HTML representation is unable to render, please try loading this page with nbviewer.org.</b></div><div class=\"sk-container\" hidden><div class=\"sk-item sk-dashed-wrapped\"><div class=\"sk-label-container\"><div class=\"sk-label sk-toggleable\"><input class=\"sk-toggleable__control sk-hidden--visually\" id=\"sk-estimator-id-1\" type=\"checkbox\" ><label for=\"sk-estimator-id-1\" class=\"sk-toggleable__label sk-toggleable__label-arrow\">GridSearchCV</label><div class=\"sk-toggleable__content\"><pre>GridSearchCV(cv=5, estimator=LinearRegression(), n_jobs=-1,\n",
       "             param_grid={&#x27;copy_X&#x27;: [True, False],\n",
       "                         &#x27;fit_intercept&#x27;: [True, False]},\n",
       "             scoring=&#x27;r2&#x27;)</pre></div></div></div><div class=\"sk-parallel\"><div class=\"sk-parallel-item\"><div class=\"sk-item\"><div class=\"sk-label-container\"><div class=\"sk-label sk-toggleable\"><input class=\"sk-toggleable__control sk-hidden--visually\" id=\"sk-estimator-id-2\" type=\"checkbox\" ><label for=\"sk-estimator-id-2\" class=\"sk-toggleable__label sk-toggleable__label-arrow\">estimator: LinearRegression</label><div class=\"sk-toggleable__content\"><pre>LinearRegression()</pre></div></div></div><div class=\"sk-serial\"><div class=\"sk-item\"><div class=\"sk-estimator sk-toggleable\"><input class=\"sk-toggleable__control sk-hidden--visually\" id=\"sk-estimator-id-3\" type=\"checkbox\" ><label for=\"sk-estimator-id-3\" class=\"sk-toggleable__label sk-toggleable__label-arrow\">LinearRegression</label><div class=\"sk-toggleable__content\"><pre>LinearRegression()</pre></div></div></div></div></div></div></div></div></div></div>"
      ],
      "text/plain": [
       "GridSearchCV(cv=5, estimator=LinearRegression(), n_jobs=-1,\n",
       "             param_grid={'copy_X': [True, False],\n",
       "                         'fit_intercept': [True, False]},\n",
       "             scoring='r2')"
      ]
     },
     "execution_count": 126,
     "metadata": {},
     "output_type": "execute_result"
    }
   ],
   "source": [
    "grid_search_lr = GridSearchCV(lr, param_grid_lr, cv=5, scoring='r2', n_jobs=-1)\n",
    "grid_search_lr.fit(X_train, y_train)"
   ]
  },
  {
   "cell_type": "code",
   "execution_count": 128,
   "id": "dd4e2d19-e15d-41bf-b317-b8f5f6628001",
   "metadata": {},
   "outputs": [],
   "source": [
    "best_lr = grid_search_lr.best_estimator_\n",
    "y_pred_lr = best_lr.predict(X_test)"
   ]
  },
  {
   "cell_type": "markdown",
   "id": "7ad29d75-549a-426e-bdac-932ce8764115",
   "metadata": {},
   "source": [
    "### RandomForestRegressor"
   ]
  },
  {
   "cell_type": "code",
   "execution_count": 131,
   "id": "48598323-9884-48d6-a7b5-55bebed26ae2",
   "metadata": {},
   "outputs": [],
   "source": [
    "rfr = RandomForestRegressor()\n",
    "\n",
    "param_grid_rfr = {\n",
    "    'n_estimators': [50, 100, 200],\n",
    "    'max_depth': [None, 10, 20, 30],\n",
    "    'min_samples_split': [2, 5, 10],\n",
    "    'min_samples_leaf': [1, 2, 4],\n",
    "    'max_features': ['auto', 'sqrt', 'log2'],\n",
    "    'bootstrap': [True, False]\n",
    "}"
   ]
  },
  {
   "cell_type": "code",
   "execution_count": 133,
   "id": "226c408e-d560-425d-933b-6b76b2f4c808",
   "metadata": {},
   "outputs": [
    {
     "data": {
      "text/html": [
       "<style>#sk-container-id-2 {color: black;}#sk-container-id-2 pre{padding: 0;}#sk-container-id-2 div.sk-toggleable {background-color: white;}#sk-container-id-2 label.sk-toggleable__label {cursor: pointer;display: block;width: 100%;margin-bottom: 0;padding: 0.3em;box-sizing: border-box;text-align: center;}#sk-container-id-2 label.sk-toggleable__label-arrow:before {content: \"▸\";float: left;margin-right: 0.25em;color: #696969;}#sk-container-id-2 label.sk-toggleable__label-arrow:hover:before {color: black;}#sk-container-id-2 div.sk-estimator:hover label.sk-toggleable__label-arrow:before {color: black;}#sk-container-id-2 div.sk-toggleable__content {max-height: 0;max-width: 0;overflow: hidden;text-align: left;background-color: #f0f8ff;}#sk-container-id-2 div.sk-toggleable__content pre {margin: 0.2em;color: black;border-radius: 0.25em;background-color: #f0f8ff;}#sk-container-id-2 input.sk-toggleable__control:checked~div.sk-toggleable__content {max-height: 200px;max-width: 100%;overflow: auto;}#sk-container-id-2 input.sk-toggleable__control:checked~label.sk-toggleable__label-arrow:before {content: \"▾\";}#sk-container-id-2 div.sk-estimator input.sk-toggleable__control:checked~label.sk-toggleable__label {background-color: #d4ebff;}#sk-container-id-2 div.sk-label input.sk-toggleable__control:checked~label.sk-toggleable__label {background-color: #d4ebff;}#sk-container-id-2 input.sk-hidden--visually {border: 0;clip: rect(1px 1px 1px 1px);clip: rect(1px, 1px, 1px, 1px);height: 1px;margin: -1px;overflow: hidden;padding: 0;position: absolute;width: 1px;}#sk-container-id-2 div.sk-estimator {font-family: monospace;background-color: #f0f8ff;border: 1px dotted black;border-radius: 0.25em;box-sizing: border-box;margin-bottom: 0.5em;}#sk-container-id-2 div.sk-estimator:hover {background-color: #d4ebff;}#sk-container-id-2 div.sk-parallel-item::after {content: \"\";width: 100%;border-bottom: 1px solid gray;flex-grow: 1;}#sk-container-id-2 div.sk-label:hover label.sk-toggleable__label {background-color: #d4ebff;}#sk-container-id-2 div.sk-serial::before {content: \"\";position: absolute;border-left: 1px solid gray;box-sizing: border-box;top: 0;bottom: 0;left: 50%;z-index: 0;}#sk-container-id-2 div.sk-serial {display: flex;flex-direction: column;align-items: center;background-color: white;padding-right: 0.2em;padding-left: 0.2em;position: relative;}#sk-container-id-2 div.sk-item {position: relative;z-index: 1;}#sk-container-id-2 div.sk-parallel {display: flex;align-items: stretch;justify-content: center;background-color: white;position: relative;}#sk-container-id-2 div.sk-item::before, #sk-container-id-2 div.sk-parallel-item::before {content: \"\";position: absolute;border-left: 1px solid gray;box-sizing: border-box;top: 0;bottom: 0;left: 50%;z-index: -1;}#sk-container-id-2 div.sk-parallel-item {display: flex;flex-direction: column;z-index: 1;position: relative;background-color: white;}#sk-container-id-2 div.sk-parallel-item:first-child::after {align-self: flex-end;width: 50%;}#sk-container-id-2 div.sk-parallel-item:last-child::after {align-self: flex-start;width: 50%;}#sk-container-id-2 div.sk-parallel-item:only-child::after {width: 0;}#sk-container-id-2 div.sk-dashed-wrapped {border: 1px dashed gray;margin: 0 0.4em 0.5em 0.4em;box-sizing: border-box;padding-bottom: 0.4em;background-color: white;}#sk-container-id-2 div.sk-label label {font-family: monospace;font-weight: bold;display: inline-block;line-height: 1.2em;}#sk-container-id-2 div.sk-label-container {text-align: center;}#sk-container-id-2 div.sk-container {/* jupyter's `normalize.less` sets `[hidden] { display: none; }` but bootstrap.min.css set `[hidden] { display: none !important; }` so we also need the `!important` here to be able to override the default hidden behavior on the sphinx rendered scikit-learn.org. See: https://github.com/scikit-learn/scikit-learn/issues/21755 */display: inline-block !important;position: relative;}#sk-container-id-2 div.sk-text-repr-fallback {display: none;}</style><div id=\"sk-container-id-2\" class=\"sk-top-container\"><div class=\"sk-text-repr-fallback\"><pre>GridSearchCV(cv=5, estimator=RandomForestRegressor(), n_jobs=-1,\n",
       "             param_grid={&#x27;bootstrap&#x27;: [True, False],\n",
       "                         &#x27;max_depth&#x27;: [None, 10, 20, 30],\n",
       "                         &#x27;max_features&#x27;: [&#x27;auto&#x27;, &#x27;sqrt&#x27;, &#x27;log2&#x27;],\n",
       "                         &#x27;min_samples_leaf&#x27;: [1, 2, 4],\n",
       "                         &#x27;min_samples_split&#x27;: [2, 5, 10],\n",
       "                         &#x27;n_estimators&#x27;: [50, 100, 200]},\n",
       "             scoring=&#x27;r2&#x27;)</pre><b>In a Jupyter environment, please rerun this cell to show the HTML representation or trust the notebook. <br />On GitHub, the HTML representation is unable to render, please try loading this page with nbviewer.org.</b></div><div class=\"sk-container\" hidden><div class=\"sk-item sk-dashed-wrapped\"><div class=\"sk-label-container\"><div class=\"sk-label sk-toggleable\"><input class=\"sk-toggleable__control sk-hidden--visually\" id=\"sk-estimator-id-4\" type=\"checkbox\" ><label for=\"sk-estimator-id-4\" class=\"sk-toggleable__label sk-toggleable__label-arrow\">GridSearchCV</label><div class=\"sk-toggleable__content\"><pre>GridSearchCV(cv=5, estimator=RandomForestRegressor(), n_jobs=-1,\n",
       "             param_grid={&#x27;bootstrap&#x27;: [True, False],\n",
       "                         &#x27;max_depth&#x27;: [None, 10, 20, 30],\n",
       "                         &#x27;max_features&#x27;: [&#x27;auto&#x27;, &#x27;sqrt&#x27;, &#x27;log2&#x27;],\n",
       "                         &#x27;min_samples_leaf&#x27;: [1, 2, 4],\n",
       "                         &#x27;min_samples_split&#x27;: [2, 5, 10],\n",
       "                         &#x27;n_estimators&#x27;: [50, 100, 200]},\n",
       "             scoring=&#x27;r2&#x27;)</pre></div></div></div><div class=\"sk-parallel\"><div class=\"sk-parallel-item\"><div class=\"sk-item\"><div class=\"sk-label-container\"><div class=\"sk-label sk-toggleable\"><input class=\"sk-toggleable__control sk-hidden--visually\" id=\"sk-estimator-id-5\" type=\"checkbox\" ><label for=\"sk-estimator-id-5\" class=\"sk-toggleable__label sk-toggleable__label-arrow\">estimator: RandomForestRegressor</label><div class=\"sk-toggleable__content\"><pre>RandomForestRegressor()</pre></div></div></div><div class=\"sk-serial\"><div class=\"sk-item\"><div class=\"sk-estimator sk-toggleable\"><input class=\"sk-toggleable__control sk-hidden--visually\" id=\"sk-estimator-id-6\" type=\"checkbox\" ><label for=\"sk-estimator-id-6\" class=\"sk-toggleable__label sk-toggleable__label-arrow\">RandomForestRegressor</label><div class=\"sk-toggleable__content\"><pre>RandomForestRegressor()</pre></div></div></div></div></div></div></div></div></div></div>"
      ],
      "text/plain": [
       "GridSearchCV(cv=5, estimator=RandomForestRegressor(), n_jobs=-1,\n",
       "             param_grid={'bootstrap': [True, False],\n",
       "                         'max_depth': [None, 10, 20, 30],\n",
       "                         'max_features': ['auto', 'sqrt', 'log2'],\n",
       "                         'min_samples_leaf': [1, 2, 4],\n",
       "                         'min_samples_split': [2, 5, 10],\n",
       "                         'n_estimators': [50, 100, 200]},\n",
       "             scoring='r2')"
      ]
     },
     "execution_count": 133,
     "metadata": {},
     "output_type": "execute_result"
    }
   ],
   "source": [
    "grid_search_rfr = GridSearchCV(rfr, param_grid_rfr, cv=5, scoring='r2', n_jobs=-1)\n",
    "grid_search_rfr.fit(X_train, y_train)"
   ]
  },
  {
   "cell_type": "code",
   "execution_count": 134,
   "id": "dba4a780-839a-4d49-ac1c-8874bda8dc07",
   "metadata": {},
   "outputs": [],
   "source": [
    "best_rfr = grid_search_rfr.best_estimator_\n",
    "y_pred_rfr = best_rfr.predict(X_test)"
   ]
  },
  {
   "cell_type": "markdown",
   "id": "06a373a0-7d09-4466-b25b-eaf3f1c71228",
   "metadata": {},
   "source": [
    "### GradientBoostingRegressor"
   ]
  },
  {
   "cell_type": "code",
   "execution_count": 136,
   "id": "c33cec8d-e354-41ba-a042-c9482e913a23",
   "metadata": {},
   "outputs": [],
   "source": [
    "gbr = GradientBoostingRegressor()\n",
    "\n",
    "param_grid_gbr = {\n",
    "    'n_estimators': [100, 200, 300],\n",
    "    'learning_rate': [0.01, 0.1, 0.2],\n",
    "    'max_depth': [3, 5, 7]\n",
    "}"
   ]
  },
  {
   "cell_type": "code",
   "execution_count": 137,
   "id": "fe7e4f24-39a1-4b5d-bcfb-c76c7033651e",
   "metadata": {},
   "outputs": [
    {
     "data": {
      "text/html": [
       "<style>#sk-container-id-3 {color: black;}#sk-container-id-3 pre{padding: 0;}#sk-container-id-3 div.sk-toggleable {background-color: white;}#sk-container-id-3 label.sk-toggleable__label {cursor: pointer;display: block;width: 100%;margin-bottom: 0;padding: 0.3em;box-sizing: border-box;text-align: center;}#sk-container-id-3 label.sk-toggleable__label-arrow:before {content: \"▸\";float: left;margin-right: 0.25em;color: #696969;}#sk-container-id-3 label.sk-toggleable__label-arrow:hover:before {color: black;}#sk-container-id-3 div.sk-estimator:hover label.sk-toggleable__label-arrow:before {color: black;}#sk-container-id-3 div.sk-toggleable__content {max-height: 0;max-width: 0;overflow: hidden;text-align: left;background-color: #f0f8ff;}#sk-container-id-3 div.sk-toggleable__content pre {margin: 0.2em;color: black;border-radius: 0.25em;background-color: #f0f8ff;}#sk-container-id-3 input.sk-toggleable__control:checked~div.sk-toggleable__content {max-height: 200px;max-width: 100%;overflow: auto;}#sk-container-id-3 input.sk-toggleable__control:checked~label.sk-toggleable__label-arrow:before {content: \"▾\";}#sk-container-id-3 div.sk-estimator input.sk-toggleable__control:checked~label.sk-toggleable__label {background-color: #d4ebff;}#sk-container-id-3 div.sk-label input.sk-toggleable__control:checked~label.sk-toggleable__label {background-color: #d4ebff;}#sk-container-id-3 input.sk-hidden--visually {border: 0;clip: rect(1px 1px 1px 1px);clip: rect(1px, 1px, 1px, 1px);height: 1px;margin: -1px;overflow: hidden;padding: 0;position: absolute;width: 1px;}#sk-container-id-3 div.sk-estimator {font-family: monospace;background-color: #f0f8ff;border: 1px dotted black;border-radius: 0.25em;box-sizing: border-box;margin-bottom: 0.5em;}#sk-container-id-3 div.sk-estimator:hover {background-color: #d4ebff;}#sk-container-id-3 div.sk-parallel-item::after {content: \"\";width: 100%;border-bottom: 1px solid gray;flex-grow: 1;}#sk-container-id-3 div.sk-label:hover label.sk-toggleable__label {background-color: #d4ebff;}#sk-container-id-3 div.sk-serial::before {content: \"\";position: absolute;border-left: 1px solid gray;box-sizing: border-box;top: 0;bottom: 0;left: 50%;z-index: 0;}#sk-container-id-3 div.sk-serial {display: flex;flex-direction: column;align-items: center;background-color: white;padding-right: 0.2em;padding-left: 0.2em;position: relative;}#sk-container-id-3 div.sk-item {position: relative;z-index: 1;}#sk-container-id-3 div.sk-parallel {display: flex;align-items: stretch;justify-content: center;background-color: white;position: relative;}#sk-container-id-3 div.sk-item::before, #sk-container-id-3 div.sk-parallel-item::before {content: \"\";position: absolute;border-left: 1px solid gray;box-sizing: border-box;top: 0;bottom: 0;left: 50%;z-index: -1;}#sk-container-id-3 div.sk-parallel-item {display: flex;flex-direction: column;z-index: 1;position: relative;background-color: white;}#sk-container-id-3 div.sk-parallel-item:first-child::after {align-self: flex-end;width: 50%;}#sk-container-id-3 div.sk-parallel-item:last-child::after {align-self: flex-start;width: 50%;}#sk-container-id-3 div.sk-parallel-item:only-child::after {width: 0;}#sk-container-id-3 div.sk-dashed-wrapped {border: 1px dashed gray;margin: 0 0.4em 0.5em 0.4em;box-sizing: border-box;padding-bottom: 0.4em;background-color: white;}#sk-container-id-3 div.sk-label label {font-family: monospace;font-weight: bold;display: inline-block;line-height: 1.2em;}#sk-container-id-3 div.sk-label-container {text-align: center;}#sk-container-id-3 div.sk-container {/* jupyter's `normalize.less` sets `[hidden] { display: none; }` but bootstrap.min.css set `[hidden] { display: none !important; }` so we also need the `!important` here to be able to override the default hidden behavior on the sphinx rendered scikit-learn.org. See: https://github.com/scikit-learn/scikit-learn/issues/21755 */display: inline-block !important;position: relative;}#sk-container-id-3 div.sk-text-repr-fallback {display: none;}</style><div id=\"sk-container-id-3\" class=\"sk-top-container\"><div class=\"sk-text-repr-fallback\"><pre>GridSearchCV(cv=5, estimator=GradientBoostingRegressor(), n_jobs=-1,\n",
       "             param_grid={&#x27;learning_rate&#x27;: [0.01, 0.1, 0.2],\n",
       "                         &#x27;max_depth&#x27;: [3, 5, 7],\n",
       "                         &#x27;n_estimators&#x27;: [100, 200, 300]},\n",
       "             scoring=&#x27;r2&#x27;)</pre><b>In a Jupyter environment, please rerun this cell to show the HTML representation or trust the notebook. <br />On GitHub, the HTML representation is unable to render, please try loading this page with nbviewer.org.</b></div><div class=\"sk-container\" hidden><div class=\"sk-item sk-dashed-wrapped\"><div class=\"sk-label-container\"><div class=\"sk-label sk-toggleable\"><input class=\"sk-toggleable__control sk-hidden--visually\" id=\"sk-estimator-id-7\" type=\"checkbox\" ><label for=\"sk-estimator-id-7\" class=\"sk-toggleable__label sk-toggleable__label-arrow\">GridSearchCV</label><div class=\"sk-toggleable__content\"><pre>GridSearchCV(cv=5, estimator=GradientBoostingRegressor(), n_jobs=-1,\n",
       "             param_grid={&#x27;learning_rate&#x27;: [0.01, 0.1, 0.2],\n",
       "                         &#x27;max_depth&#x27;: [3, 5, 7],\n",
       "                         &#x27;n_estimators&#x27;: [100, 200, 300]},\n",
       "             scoring=&#x27;r2&#x27;)</pre></div></div></div><div class=\"sk-parallel\"><div class=\"sk-parallel-item\"><div class=\"sk-item\"><div class=\"sk-label-container\"><div class=\"sk-label sk-toggleable\"><input class=\"sk-toggleable__control sk-hidden--visually\" id=\"sk-estimator-id-8\" type=\"checkbox\" ><label for=\"sk-estimator-id-8\" class=\"sk-toggleable__label sk-toggleable__label-arrow\">estimator: GradientBoostingRegressor</label><div class=\"sk-toggleable__content\"><pre>GradientBoostingRegressor()</pre></div></div></div><div class=\"sk-serial\"><div class=\"sk-item\"><div class=\"sk-estimator sk-toggleable\"><input class=\"sk-toggleable__control sk-hidden--visually\" id=\"sk-estimator-id-9\" type=\"checkbox\" ><label for=\"sk-estimator-id-9\" class=\"sk-toggleable__label sk-toggleable__label-arrow\">GradientBoostingRegressor</label><div class=\"sk-toggleable__content\"><pre>GradientBoostingRegressor()</pre></div></div></div></div></div></div></div></div></div></div>"
      ],
      "text/plain": [
       "GridSearchCV(cv=5, estimator=GradientBoostingRegressor(), n_jobs=-1,\n",
       "             param_grid={'learning_rate': [0.01, 0.1, 0.2],\n",
       "                         'max_depth': [3, 5, 7],\n",
       "                         'n_estimators': [100, 200, 300]},\n",
       "             scoring='r2')"
      ]
     },
     "execution_count": 137,
     "metadata": {},
     "output_type": "execute_result"
    }
   ],
   "source": [
    "grid_search_gbr = GridSearchCV(gbr, param_grid_gbr, cv=5, scoring='r2', n_jobs=-1)\n",
    "grid_search_gbr.fit(X_train, y_train)"
   ]
  },
  {
   "cell_type": "code",
   "execution_count": 142,
   "id": "772e81d9-6070-4b4e-af26-aa080fa1e3ff",
   "metadata": {},
   "outputs": [],
   "source": [
    "best_gbr = grid_search_gbr.best_estimator_\n",
    "y_pred_gbr = best_gbr.predict(X_test)"
   ]
  },
  {
   "cell_type": "markdown",
   "id": "d2d0dea6-9869-40c7-a81a-2142fe8303fb",
   "metadata": {},
   "source": [
    "### **Model Evaluation**"
   ]
  },
  {
   "cell_type": "code",
   "execution_count": 145,
   "id": "453f3912-bfb9-42de-b8fb-f662b14be810",
   "metadata": {},
   "outputs": [],
   "source": [
    "from sklearn.metrics import mean_squared_error, mean_absolute_error, r2_score"
   ]
  },
  {
   "cell_type": "code",
   "execution_count": 147,
   "id": "ab5b27fe-c67d-4ca7-bd9a-7c10a5bdd4fe",
   "metadata": {},
   "outputs": [],
   "source": [
    "y_pred_lr = best_lr.predict(X_test)\n",
    "y_pred_rfr = best_rfr.predict(X_test)\n",
    "y_pred_gbr = best_gbr.predict(X_test)"
   ]
  },
  {
   "cell_type": "code",
   "execution_count": 149,
   "id": "978b7904-cac3-44a8-8e0d-5cde8cf732cc",
   "metadata": {},
   "outputs": [
    {
     "data": {
      "text/html": [
       "<div>\n",
       "<style scoped>\n",
       "    .dataframe tbody tr th:only-of-type {\n",
       "        vertical-align: middle;\n",
       "    }\n",
       "\n",
       "    .dataframe tbody tr th {\n",
       "        vertical-align: top;\n",
       "    }\n",
       "\n",
       "    .dataframe thead th {\n",
       "        text-align: right;\n",
       "    }\n",
       "</style>\n",
       "<table border=\"1\" class=\"dataframe\">\n",
       "  <thead>\n",
       "    <tr style=\"text-align: right;\">\n",
       "      <th></th>\n",
       "      <th>Model</th>\n",
       "      <th>MSE</th>\n",
       "      <th>RMSE</th>\n",
       "      <th>MAE</th>\n",
       "      <th>R2</th>\n",
       "    </tr>\n",
       "  </thead>\n",
       "  <tbody>\n",
       "    <tr>\n",
       "      <th>0</th>\n",
       "      <td>Linear Regression</td>\n",
       "      <td>2.497390e-25</td>\n",
       "      <td>4.997389e-13</td>\n",
       "      <td>4.420914e-13</td>\n",
       "      <td>1.000000</td>\n",
       "    </tr>\n",
       "    <tr>\n",
       "      <th>1</th>\n",
       "      <td>Random Forest</td>\n",
       "      <td>2.020792e+01</td>\n",
       "      <td>4.495322e+00</td>\n",
       "      <td>2.858965e+00</td>\n",
       "      <td>0.993828</td>\n",
       "    </tr>\n",
       "    <tr>\n",
       "      <th>2</th>\n",
       "      <td>Gradient Boosting</td>\n",
       "      <td>8.343200e-03</td>\n",
       "      <td>9.134112e-02</td>\n",
       "      <td>9.697159e-03</td>\n",
       "      <td>0.999997</td>\n",
       "    </tr>\n",
       "  </tbody>\n",
       "</table>\n",
       "</div>"
      ],
      "text/plain": [
       "               Model           MSE          RMSE           MAE        R2\n",
       "0  Linear Regression  2.497390e-25  4.997389e-13  4.420914e-13  1.000000\n",
       "1      Random Forest  2.020792e+01  4.495322e+00  2.858965e+00  0.993828\n",
       "2  Gradient Boosting  8.343200e-03  9.134112e-02  9.697159e-03  0.999997"
      ]
     },
     "metadata": {},
     "output_type": "display_data"
    }
   ],
   "source": [
    "def evaluate_model(y_true, y_pred, model_name):\n",
    "    mse = mean_squared_error(y_true, y_pred)\n",
    "    rmse = np.sqrt(mse)\n",
    "    r2 = r2_score(y_true, y_pred)\n",
    "    mae = mean_absolute_error(y_true, y_pred)\n",
    "    return {'Model': model_name, 'MSE': mse, 'RMSE': rmse, 'MAE': mae, 'R2': r2}\n",
    "\n",
    "metrics_lr = evaluate_model(y_test, y_pred_lr, 'Linear Regression')\n",
    "metrics_rfr = evaluate_model(y_test, y_pred_rfr, 'Random Forest')\n",
    "metrics_gbr = evaluate_model(y_test, y_pred_gbr, 'Gradient Boosting')\n",
    "\n",
    "all_metrics = pd.DataFrame([metrics_lr, metrics_rfr, metrics_gbr])\n",
    "display(all_metrics)"
   ]
  },
  {
   "cell_type": "markdown",
   "id": "ab9fdc1f-368d-4561-962e-e114714446a0",
   "metadata": {},
   "source": [
    "#### Linear Regression and Gradient Boosting give very accurate results, while Random Forest is a little less accurate."
   ]
  },
  {
   "cell_type": "markdown",
   "id": "4d4a6390-1d4a-4ac9-9d2b-b9df4fb09a2e",
   "metadata": {},
   "source": [
    "### **Job Recommendation**"
   ]
  },
  {
   "cell_type": "code",
   "execution_count": 153,
   "id": "555d2457-d3dc-4a2f-90b4-a779150549b4",
   "metadata": {},
   "outputs": [],
   "source": [
    "from sklearn.feature_extraction.text import TfidfVectorizer\n",
    "from sklearn.metrics.pairwise import cosine_similarity\n",
    "import ipywidgets as widgets\n",
    "from IPython.display import display"
   ]
  },
  {
   "cell_type": "code",
   "execution_count": 155,
   "id": "13fb9313-5f9d-4f82-8b48-3354095f87f4",
   "metadata": {},
   "outputs": [],
   "source": [
    "df3['Job_Name'] = df3['Job_Name'].fillna('').astype(str)\n",
    "df3['Location'] = df3['Location'].fillna('').astype(str)"
   ]
  },
  {
   "cell_type": "code",
   "execution_count": 157,
   "id": "40b4f183-2f1d-4420-bc84-fa297dca14ce",
   "metadata": {},
   "outputs": [],
   "source": [
    "# Feature Engineering\n",
    "tfidf = TfidfVectorizer(stop_words='english')\n",
    "df3['Job_Name'] = df3['Job_Name'].fillna('')\n",
    "df3['Location'] = df3['Location'].fillna('')\n",
    "tfidf_matrix_jobs = tfidf.fit_transform(df3['Job_Name'])\n",
    "tfidf_matrix_locations = tfidf.fit_transform(df3['Location'])"
   ]
  },
  {
   "cell_type": "code",
   "execution_count": 159,
   "id": "ec963991-b3bc-4a47-9061-33b4ba27bf69",
   "metadata": {},
   "outputs": [],
   "source": [
    "# Compute Cosine Similarity Separately\n",
    "cosine_sim_jobs = cosine_similarity(tfidf_matrix_jobs, tfidf_matrix_jobs)\n",
    "cosine_sim_locations = cosine_similarity(tfidf_matrix_locations, tfidf_matrix_locations)"
   ]
  },
  {
   "cell_type": "code",
   "execution_count": 161,
   "id": "e62b82c1-5311-4246-b65b-9119488f5965",
   "metadata": {},
   "outputs": [],
   "source": [
    "def recommend_jobs(job_title, location, top_n=3):\n",
    "    job_idx = df3[df3['Job_Name'].str.contains(job_title, case=False, na=False)].index\n",
    "    location_idx = df3[df3['Location'].str.contains(location, case=False, na=False)].index\n",
    "    \n",
    "    if len(job_idx) == 0 or len(location_idx) == 0:\n",
    "        return \"No job found!\"\n",
    "\n",
    "    job_idx = job_idx[0]\n",
    "    location_idx = location_idx[0]\n",
    "\n",
    "    job_sim_scores = list(enumerate(cosine_sim_jobs[job_idx]))\n",
    "    location_sim_scores = list(enumerate(cosine_sim_locations[location_idx]))\n",
    "\n",
    "    # Combine Similarity Scores (Job + Location)\n",
    "    combined_scores = {i[0]: i[1] for i in job_sim_scores}\n",
    "    for loc in location_sim_scores:\n",
    "        if loc[0] in combined_scores:\n",
    "            combined_scores[loc[0]] += loc[1]  # Add scores\n",
    "\n",
    "    # Sort by Best Matches\n",
    "    sorted_jobs = sorted(combined_scores.items(), key=lambda x: x[1], reverse=True)[1:top_n+1]\n",
    "    job_indices = [i[0] for i in sorted_jobs]\n",
    "\n",
    "    return df3.iloc[job_indices][['Job_Name', 'Company_Name', 'Location', 'Job_Type', 'Applicants', 'Time_Posted']]"
   ]
  },
  {
   "cell_type": "code",
   "execution_count": 163,
   "id": "823bf481-10dd-407c-88cd-aaf8cfe6e229",
   "metadata": {},
   "outputs": [],
   "source": [
    "job_dropdown = widgets.Dropdown(\n",
    "    options=df3['Job_Name'].unique(),\n",
    "    description=\"Job Name:\",\n",
    "    disabled=False,\n",
    ")\n",
    "\n",
    "location_dropdown = widgets.Dropdown(\n",
    "    options=df3['Location'].unique(),\n",
    "    description=\"Location:\",\n",
    "    disabled=False,\n",
    ")\n",
    "\n",
    "output = widgets.Output()"
   ]
  },
  {
   "cell_type": "code",
   "execution_count": 165,
   "id": "3a77a001-f258-4529-89b0-3ed035b73f54",
   "metadata": {},
   "outputs": [],
   "source": [
    "def on_submit(change):\n",
    "    with output:\n",
    "        output.clear_output()  \n",
    "        user_job = job_dropdown.value\n",
    "        user_location = location_dropdown.value\n",
    "        recommended_jobs = recommend_jobs(user_job, user_location)\n",
    "        display(recommended_jobs)\n",
    "\n",
    "job_dropdown.observe(on_submit, names='value')\n",
    "location_dropdown.observe(on_submit, names='value')"
   ]
  },
  {
   "cell_type": "code",
   "execution_count": 167,
   "id": "39fa403f-4be3-4266-b075-797a326579e9",
   "metadata": {},
   "outputs": [
    {
     "data": {
      "application/vnd.jupyter.widget-view+json": {
       "model_id": "7d46717709084a8f81269c81073e434c",
       "version_major": 2,
       "version_minor": 0
      },
      "text/plain": [
       "Dropdown(description='Job Name:', options=('Opening for Java Full Stack Developer', 'Senior Engineer Ã¢Â\\x80Â\\…"
      ]
     },
     "metadata": {},
     "output_type": "display_data"
    },
    {
     "data": {
      "application/vnd.jupyter.widget-view+json": {
       "model_id": "76d57f08246f423793f3904088dcaae3",
       "version_major": 2,
       "version_minor": 0
      },
      "text/plain": [
       "Dropdown(description='Location:', options=('Pune, Maharashtra, India', 'Bengaluru, Karnataka, India', 'Bengalu…"
      ]
     },
     "metadata": {},
     "output_type": "display_data"
    },
    {
     "data": {
      "application/vnd.jupyter.widget-view+json": {
       "model_id": "33c71f4675304e3fa95ac2d565fefdc1",
       "version_major": 2,
       "version_minor": 0
      },
      "text/plain": [
       "Output()"
      ]
     },
     "metadata": {},
     "output_type": "display_data"
    }
   ],
   "source": [
    "display(job_dropdown, location_dropdown, output)"
   ]
  },
  {
   "cell_type": "markdown",
   "id": "97c10c9c-5db7-4082-b108-95e2d3a37bb8",
   "metadata": {},
   "source": [
    "#### There are recommended three similar jobs"
   ]
  },
  {
   "cell_type": "code",
   "execution_count": null,
   "id": "22182ec8-b7d6-4f75-a57c-b1780cbed440",
   "metadata": {},
   "outputs": [],
   "source": []
  }
 ],
 "metadata": {
  "kernelspec": {
   "display_name": "Python [conda env:base] *",
   "language": "python",
   "name": "conda-base-py"
  },
  "language_info": {
   "codemirror_mode": {
    "name": "ipython",
    "version": 3
   },
   "file_extension": ".py",
   "mimetype": "text/x-python",
   "name": "python",
   "nbconvert_exporter": "python",
   "pygments_lexer": "ipython3",
   "version": "3.11.5"
  }
 },
 "nbformat": 4,
 "nbformat_minor": 5
}
